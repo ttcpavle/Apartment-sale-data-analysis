{
 "cells": [
  {
   "metadata": {},
   "cell_type": "markdown",
   "source": [
    "# Apartment prices analysis in Serbia\n",
    "\n",
    "Analysis is done on [this](https://www.kaggle.com/datasets/djordjejov/serbian-real-estate-dataset \"kaggle dataset used\") 2024 (march) dataset from Kaggle. For plotting data on map, libraries such as geopandas, geopy and folium are used.\n",
    "\n",
    "In this project, we will analyse what is basically a \"snapshot\" of real estate market in Serbia at a given moment in time. We will implement different ideas such as plotting average square price per opstina (municipality), average square price in city Belgrade, create dot map (or marker map) where each dot is coloured with different color depending on square price, various graphs, heatmaps and so on.\n",
    "\n",
    "This dataset should give a person the idea of real estate prices in different parts of Serbia. It can even be a rough guide when looking to buy new apartment. This analysis will provide a lot of important information such as:\n",
    "* which municipalities in serbia are more expensive than others\n",
    "* which parts of city are cheaper compared to others\n",
    "* which part of city has cheap real estate and is close to city center\n",
    "* which locations are more expensive\n",
    "* how many apartments are for sale in different locations\n",
    "\n",
    "This dataset does not include coordinates of apartments for sale. Later on, we will use custom geocoding heuristic methods to roughly approximate coordinates, which will help us create different kinds of maps.\n",
    "\n"
   ],
   "id": "f396c48d67c29659"
  },
  {
   "metadata": {},
   "cell_type": "markdown",
   "source": "#### Loading necessary libraries and setting global variables",
   "id": "c226a0ea545dc1f5"
  },
  {
   "cell_type": "code",
   "id": "initial_id",
   "metadata": {
    "collapsed": true,
    "ExecuteTime": {
     "end_time": "2025-10-17T17:37:20.279460Z",
     "start_time": "2025-10-17T17:37:20.271011Z"
    }
   },
   "source": [
    "import pandas as pd\n",
    "import geopandas as gpd\n",
    "from geopy.geocoders import Nominatim\n",
    "from pathlib import Path\n",
    "from sys import stderr\n",
    "import matplotlib.pyplot as plt\n",
    "import seaborn as sb\n",
    "\n",
    "DATA_DIR = Path.cwd() / 'data'"
   ],
   "outputs": [],
   "execution_count": 55
  },
  {
   "metadata": {
    "ExecuteTime": {
     "end_time": "2025-10-17T17:37:20.398192Z",
     "start_time": "2025-10-17T17:37:20.345303Z"
    }
   },
   "cell_type": "code",
   "source": [
    "data = pd.read_csv(Path.cwd() / 'data' / 'apartmentsdata.csv')\n",
    "data"
   ],
   "id": "90681893feee297b",
   "outputs": [
    {
     "data": {
      "text/plain": [
       "       area            city floor  \\\n",
       "0        76         Beograd     3   \n",
       "1        41  Vrnjačka Banja     2   \n",
       "2        37       Sokobanja     1   \n",
       "3        34       Sokobanja     3   \n",
       "4        55         Beograd     2   \n",
       "...     ...             ...   ...   \n",
       "11699    49         Beograd     1   \n",
       "11700    39         Beograd     1   \n",
       "11701    81         Beograd     2   \n",
       "11702    92         Beograd     4   \n",
       "11703    68         Beograd     4   \n",
       "\n",
       "                                                location   price  rooms  \\\n",
       "0       Opština Vračar , Hram svetog Save , Svetog Save   290000    2.0   \n",
       "1                Gradska lokacija , Raj , Kosovska br.1    82000    2.0   \n",
       "2       Gradska lokacija , Banjica , Profesora Dragol...   60605    2.0   \n",
       "3       Gradska lokacija , Banjica , Profesora Dragol...   59488    1.5   \n",
       "4       Opština Zemun , Altina , Ugrinovački put 8. deo   104500    2.0   \n",
       "...                                                  ...     ...    ...   \n",
       "11699                                   Zvezdara opština  105000    2.5   \n",
       "11700                  Gornji Grad, Zemun, Zemun opština  105000    1.0   \n",
       "11701                         Crveni Krst Vračar, Vračar  279449    3.5   \n",
       "11702                         Crveni Krst Vračar, Vračar  315254    3.5   \n",
       "11703                              Blok 70, Novi Beograd  215000    2.5   \n",
       "\n",
       "           source  square_price                                  title  \n",
       "0      halooglasi          3816  Plato Hrama Svetog Save, Vračar, 76m2  \n",
       "1      halooglasi          2000                 Lux stan Akva Park Raj  \n",
       "2      halooglasi          1650     Direktna prodaja stana u Sokobanji  \n",
       "3      halooglasi          1760       Direktna prodaja stana Sokobanja  \n",
       "4      halooglasi          1900                     Zemun, Altina, 2.0  \n",
       "...           ...           ...                                    ...  \n",
       "11699       4zida          2143                      Cvetanova Ćuprija  \n",
       "11700       4zida          2692                             Karlovačka  \n",
       "11701       4zida          3450                              Gročanska  \n",
       "11702       4zida          3427                              Gročanska  \n",
       "11703       4zida          3162                        Jurija Gagarina  \n",
       "\n",
       "[11704 rows x 9 columns]"
      ],
      "text/html": [
       "<div>\n",
       "<style scoped>\n",
       "    .dataframe tbody tr th:only-of-type {\n",
       "        vertical-align: middle;\n",
       "    }\n",
       "\n",
       "    .dataframe tbody tr th {\n",
       "        vertical-align: top;\n",
       "    }\n",
       "\n",
       "    .dataframe thead th {\n",
       "        text-align: right;\n",
       "    }\n",
       "</style>\n",
       "<table border=\"1\" class=\"dataframe\">\n",
       "  <thead>\n",
       "    <tr style=\"text-align: right;\">\n",
       "      <th></th>\n",
       "      <th>area</th>\n",
       "      <th>city</th>\n",
       "      <th>floor</th>\n",
       "      <th>location</th>\n",
       "      <th>price</th>\n",
       "      <th>rooms</th>\n",
       "      <th>source</th>\n",
       "      <th>square_price</th>\n",
       "      <th>title</th>\n",
       "    </tr>\n",
       "  </thead>\n",
       "  <tbody>\n",
       "    <tr>\n",
       "      <th>0</th>\n",
       "      <td>76</td>\n",
       "      <td>Beograd</td>\n",
       "      <td>3</td>\n",
       "      <td>Opština Vračar , Hram svetog Save , Svetog Save</td>\n",
       "      <td>290000</td>\n",
       "      <td>2.0</td>\n",
       "      <td>halooglasi</td>\n",
       "      <td>3816</td>\n",
       "      <td>Plato Hrama Svetog Save, Vračar, 76m2</td>\n",
       "    </tr>\n",
       "    <tr>\n",
       "      <th>1</th>\n",
       "      <td>41</td>\n",
       "      <td>Vrnjačka Banja</td>\n",
       "      <td>2</td>\n",
       "      <td>Gradska lokacija , Raj , Kosovska br.1</td>\n",
       "      <td>82000</td>\n",
       "      <td>2.0</td>\n",
       "      <td>halooglasi</td>\n",
       "      <td>2000</td>\n",
       "      <td>Lux stan Akva Park Raj</td>\n",
       "    </tr>\n",
       "    <tr>\n",
       "      <th>2</th>\n",
       "      <td>37</td>\n",
       "      <td>Sokobanja</td>\n",
       "      <td>1</td>\n",
       "      <td>Gradska lokacija , Banjica , Profesora Dragol...</td>\n",
       "      <td>60605</td>\n",
       "      <td>2.0</td>\n",
       "      <td>halooglasi</td>\n",
       "      <td>1650</td>\n",
       "      <td>Direktna prodaja stana u Sokobanji</td>\n",
       "    </tr>\n",
       "    <tr>\n",
       "      <th>3</th>\n",
       "      <td>34</td>\n",
       "      <td>Sokobanja</td>\n",
       "      <td>3</td>\n",
       "      <td>Gradska lokacija , Banjica , Profesora Dragol...</td>\n",
       "      <td>59488</td>\n",
       "      <td>1.5</td>\n",
       "      <td>halooglasi</td>\n",
       "      <td>1760</td>\n",
       "      <td>Direktna prodaja stana Sokobanja</td>\n",
       "    </tr>\n",
       "    <tr>\n",
       "      <th>4</th>\n",
       "      <td>55</td>\n",
       "      <td>Beograd</td>\n",
       "      <td>2</td>\n",
       "      <td>Opština Zemun , Altina , Ugrinovački put 8. deo</td>\n",
       "      <td>104500</td>\n",
       "      <td>2.0</td>\n",
       "      <td>halooglasi</td>\n",
       "      <td>1900</td>\n",
       "      <td>Zemun, Altina, 2.0</td>\n",
       "    </tr>\n",
       "    <tr>\n",
       "      <th>...</th>\n",
       "      <td>...</td>\n",
       "      <td>...</td>\n",
       "      <td>...</td>\n",
       "      <td>...</td>\n",
       "      <td>...</td>\n",
       "      <td>...</td>\n",
       "      <td>...</td>\n",
       "      <td>...</td>\n",
       "      <td>...</td>\n",
       "    </tr>\n",
       "    <tr>\n",
       "      <th>11699</th>\n",
       "      <td>49</td>\n",
       "      <td>Beograd</td>\n",
       "      <td>1</td>\n",
       "      <td>Zvezdara opština</td>\n",
       "      <td>105000</td>\n",
       "      <td>2.5</td>\n",
       "      <td>4zida</td>\n",
       "      <td>2143</td>\n",
       "      <td>Cvetanova Ćuprija</td>\n",
       "    </tr>\n",
       "    <tr>\n",
       "      <th>11700</th>\n",
       "      <td>39</td>\n",
       "      <td>Beograd</td>\n",
       "      <td>1</td>\n",
       "      <td>Gornji Grad, Zemun, Zemun opština</td>\n",
       "      <td>105000</td>\n",
       "      <td>1.0</td>\n",
       "      <td>4zida</td>\n",
       "      <td>2692</td>\n",
       "      <td>Karlovačka</td>\n",
       "    </tr>\n",
       "    <tr>\n",
       "      <th>11701</th>\n",
       "      <td>81</td>\n",
       "      <td>Beograd</td>\n",
       "      <td>2</td>\n",
       "      <td>Crveni Krst Vračar, Vračar</td>\n",
       "      <td>279449</td>\n",
       "      <td>3.5</td>\n",
       "      <td>4zida</td>\n",
       "      <td>3450</td>\n",
       "      <td>Gročanska</td>\n",
       "    </tr>\n",
       "    <tr>\n",
       "      <th>11702</th>\n",
       "      <td>92</td>\n",
       "      <td>Beograd</td>\n",
       "      <td>4</td>\n",
       "      <td>Crveni Krst Vračar, Vračar</td>\n",
       "      <td>315254</td>\n",
       "      <td>3.5</td>\n",
       "      <td>4zida</td>\n",
       "      <td>3427</td>\n",
       "      <td>Gročanska</td>\n",
       "    </tr>\n",
       "    <tr>\n",
       "      <th>11703</th>\n",
       "      <td>68</td>\n",
       "      <td>Beograd</td>\n",
       "      <td>4</td>\n",
       "      <td>Blok 70, Novi Beograd</td>\n",
       "      <td>215000</td>\n",
       "      <td>2.5</td>\n",
       "      <td>4zida</td>\n",
       "      <td>3162</td>\n",
       "      <td>Jurija Gagarina</td>\n",
       "    </tr>\n",
       "  </tbody>\n",
       "</table>\n",
       "<p>11704 rows × 9 columns</p>\n",
       "</div>"
      ]
     },
     "execution_count": 56,
     "metadata": {},
     "output_type": "execute_result"
    }
   ],
   "execution_count": 56
  },
  {
   "metadata": {},
   "cell_type": "markdown",
   "source": "Let's analyze the dataset",
   "id": "f7875353b6258b39"
  },
  {
   "metadata": {
    "ExecuteTime": {
     "end_time": "2025-10-17T17:37:20.522010Z",
     "start_time": "2025-10-17T17:37:20.514948Z"
    }
   },
   "cell_type": "code",
   "source": "data.shape",
   "id": "5785327bf160bb29",
   "outputs": [
    {
     "data": {
      "text/plain": [
       "(11704, 9)"
      ]
     },
     "execution_count": 57,
     "metadata": {},
     "output_type": "execute_result"
    }
   ],
   "execution_count": 57
  },
  {
   "metadata": {
    "ExecuteTime": {
     "end_time": "2025-10-17T17:37:20.822693Z",
     "start_time": "2025-10-17T17:37:20.806205Z"
    }
   },
   "cell_type": "code",
   "source": "data.info()",
   "id": "f693c5978ec1e819",
   "outputs": [
    {
     "name": "stdout",
     "output_type": "stream",
     "text": [
      "<class 'pandas.core.frame.DataFrame'>\n",
      "RangeIndex: 11704 entries, 0 to 11703\n",
      "Data columns (total 9 columns):\n",
      " #   Column        Non-Null Count  Dtype  \n",
      "---  ------        --------------  -----  \n",
      " 0   area          11704 non-null  int64  \n",
      " 1   city          11704 non-null  object \n",
      " 2   floor         11586 non-null  object \n",
      " 3   location      11704 non-null  object \n",
      " 4   price         11704 non-null  int64  \n",
      " 5   rooms         11704 non-null  float64\n",
      " 6   source        11704 non-null  object \n",
      " 7   square_price  11704 non-null  int64  \n",
      " 8   title         11704 non-null  object \n",
      "dtypes: float64(1), int64(3), object(5)\n",
      "memory usage: 823.1+ KB\n"
     ]
    }
   ],
   "execution_count": 58
  },
  {
   "metadata": {},
   "cell_type": "markdown",
   "source": "There are 80 unique serbian cities in this dataset",
   "id": "1a3cbc833f1b3f4d"
  },
  {
   "metadata": {
    "ExecuteTime": {
     "end_time": "2025-10-17T17:37:21.076610Z",
     "start_time": "2025-10-17T17:37:21.055819Z"
    }
   },
   "cell_type": "code",
   "source": "data.nunique()",
   "id": "ea03bf44672bcaf",
   "outputs": [
    {
     "data": {
      "text/plain": [
       "area              235\n",
       "city               80\n",
       "floor              31\n",
       "location         3541\n",
       "price            3292\n",
       "rooms              14\n",
       "source              2\n",
       "square_price     2947\n",
       "title           10371\n",
       "dtype: int64"
      ]
     },
     "execution_count": 59,
     "metadata": {},
     "output_type": "execute_result"
    }
   ],
   "execution_count": 59
  },
  {
   "metadata": {},
   "cell_type": "markdown",
   "source": [
    "## Cleaning\n",
    "We can immediately see a few problems with data. There is non-readable character in column \"location\" which is HTML artefact that occurred when data was scraped online. It is non-readable byte 0A. We will replace it with empty string.\n",
    "\n",
    "It can also be noticed that there are 118 NaN values in column floor. We can remove those as well."
   ],
   "id": "fdafcd7b806e1021"
  },
  {
   "metadata": {
    "ExecuteTime": {
     "end_time": "2025-10-17T17:37:21.355896Z",
     "start_time": "2025-10-17T17:37:21.266756Z"
    }
   },
   "cell_type": "code",
   "source": [
    "data = data.replace('\\xa0', '', regex=True)\n",
    "data"
   ],
   "id": "7eab0e2b90f06187",
   "outputs": [
    {
     "data": {
      "text/plain": [
       "       area            city floor  \\\n",
       "0        76         Beograd     3   \n",
       "1        41  Vrnjačka Banja     2   \n",
       "2        37       Sokobanja     1   \n",
       "3        34       Sokobanja     3   \n",
       "4        55         Beograd     2   \n",
       "...     ...             ...   ...   \n",
       "11699    49         Beograd     1   \n",
       "11700    39         Beograd     1   \n",
       "11701    81         Beograd     2   \n",
       "11702    92         Beograd     4   \n",
       "11703    68         Beograd     4   \n",
       "\n",
       "                                                location   price  rooms  \\\n",
       "0          Opština Vračar, Hram svetog Save, Svetog Save  290000    2.0   \n",
       "1                   Gradska lokacija, Raj, Kosovska br.1   82000    2.0   \n",
       "2       Gradska lokacija, Banjica, Profesora Dragolju...   60605    2.0   \n",
       "3       Gradska lokacija, Banjica, Profesora Dragolju...   59488    1.5   \n",
       "4          Opština Zemun, Altina, Ugrinovački put 8. deo  104500    2.0   \n",
       "...                                                  ...     ...    ...   \n",
       "11699                                   Zvezdara opština  105000    2.5   \n",
       "11700                  Gornji Grad, Zemun, Zemun opština  105000    1.0   \n",
       "11701                         Crveni Krst Vračar, Vračar  279449    3.5   \n",
       "11702                         Crveni Krst Vračar, Vračar  315254    3.5   \n",
       "11703                              Blok 70, Novi Beograd  215000    2.5   \n",
       "\n",
       "           source  square_price                                  title  \n",
       "0      halooglasi          3816  Plato Hrama Svetog Save, Vračar, 76m2  \n",
       "1      halooglasi          2000                 Lux stan Akva Park Raj  \n",
       "2      halooglasi          1650     Direktna prodaja stana u Sokobanji  \n",
       "3      halooglasi          1760       Direktna prodaja stana Sokobanja  \n",
       "4      halooglasi          1900                     Zemun, Altina, 2.0  \n",
       "...           ...           ...                                    ...  \n",
       "11699       4zida          2143                      Cvetanova Ćuprija  \n",
       "11700       4zida          2692                             Karlovačka  \n",
       "11701       4zida          3450                              Gročanska  \n",
       "11702       4zida          3427                              Gročanska  \n",
       "11703       4zida          3162                        Jurija Gagarina  \n",
       "\n",
       "[11704 rows x 9 columns]"
      ],
      "text/html": [
       "<div>\n",
       "<style scoped>\n",
       "    .dataframe tbody tr th:only-of-type {\n",
       "        vertical-align: middle;\n",
       "    }\n",
       "\n",
       "    .dataframe tbody tr th {\n",
       "        vertical-align: top;\n",
       "    }\n",
       "\n",
       "    .dataframe thead th {\n",
       "        text-align: right;\n",
       "    }\n",
       "</style>\n",
       "<table border=\"1\" class=\"dataframe\">\n",
       "  <thead>\n",
       "    <tr style=\"text-align: right;\">\n",
       "      <th></th>\n",
       "      <th>area</th>\n",
       "      <th>city</th>\n",
       "      <th>floor</th>\n",
       "      <th>location</th>\n",
       "      <th>price</th>\n",
       "      <th>rooms</th>\n",
       "      <th>source</th>\n",
       "      <th>square_price</th>\n",
       "      <th>title</th>\n",
       "    </tr>\n",
       "  </thead>\n",
       "  <tbody>\n",
       "    <tr>\n",
       "      <th>0</th>\n",
       "      <td>76</td>\n",
       "      <td>Beograd</td>\n",
       "      <td>3</td>\n",
       "      <td>Opština Vračar, Hram svetog Save, Svetog Save</td>\n",
       "      <td>290000</td>\n",
       "      <td>2.0</td>\n",
       "      <td>halooglasi</td>\n",
       "      <td>3816</td>\n",
       "      <td>Plato Hrama Svetog Save, Vračar, 76m2</td>\n",
       "    </tr>\n",
       "    <tr>\n",
       "      <th>1</th>\n",
       "      <td>41</td>\n",
       "      <td>Vrnjačka Banja</td>\n",
       "      <td>2</td>\n",
       "      <td>Gradska lokacija, Raj, Kosovska br.1</td>\n",
       "      <td>82000</td>\n",
       "      <td>2.0</td>\n",
       "      <td>halooglasi</td>\n",
       "      <td>2000</td>\n",
       "      <td>Lux stan Akva Park Raj</td>\n",
       "    </tr>\n",
       "    <tr>\n",
       "      <th>2</th>\n",
       "      <td>37</td>\n",
       "      <td>Sokobanja</td>\n",
       "      <td>1</td>\n",
       "      <td>Gradska lokacija, Banjica, Profesora Dragolju...</td>\n",
       "      <td>60605</td>\n",
       "      <td>2.0</td>\n",
       "      <td>halooglasi</td>\n",
       "      <td>1650</td>\n",
       "      <td>Direktna prodaja stana u Sokobanji</td>\n",
       "    </tr>\n",
       "    <tr>\n",
       "      <th>3</th>\n",
       "      <td>34</td>\n",
       "      <td>Sokobanja</td>\n",
       "      <td>3</td>\n",
       "      <td>Gradska lokacija, Banjica, Profesora Dragolju...</td>\n",
       "      <td>59488</td>\n",
       "      <td>1.5</td>\n",
       "      <td>halooglasi</td>\n",
       "      <td>1760</td>\n",
       "      <td>Direktna prodaja stana Sokobanja</td>\n",
       "    </tr>\n",
       "    <tr>\n",
       "      <th>4</th>\n",
       "      <td>55</td>\n",
       "      <td>Beograd</td>\n",
       "      <td>2</td>\n",
       "      <td>Opština Zemun, Altina, Ugrinovački put 8. deo</td>\n",
       "      <td>104500</td>\n",
       "      <td>2.0</td>\n",
       "      <td>halooglasi</td>\n",
       "      <td>1900</td>\n",
       "      <td>Zemun, Altina, 2.0</td>\n",
       "    </tr>\n",
       "    <tr>\n",
       "      <th>...</th>\n",
       "      <td>...</td>\n",
       "      <td>...</td>\n",
       "      <td>...</td>\n",
       "      <td>...</td>\n",
       "      <td>...</td>\n",
       "      <td>...</td>\n",
       "      <td>...</td>\n",
       "      <td>...</td>\n",
       "      <td>...</td>\n",
       "    </tr>\n",
       "    <tr>\n",
       "      <th>11699</th>\n",
       "      <td>49</td>\n",
       "      <td>Beograd</td>\n",
       "      <td>1</td>\n",
       "      <td>Zvezdara opština</td>\n",
       "      <td>105000</td>\n",
       "      <td>2.5</td>\n",
       "      <td>4zida</td>\n",
       "      <td>2143</td>\n",
       "      <td>Cvetanova Ćuprija</td>\n",
       "    </tr>\n",
       "    <tr>\n",
       "      <th>11700</th>\n",
       "      <td>39</td>\n",
       "      <td>Beograd</td>\n",
       "      <td>1</td>\n",
       "      <td>Gornji Grad, Zemun, Zemun opština</td>\n",
       "      <td>105000</td>\n",
       "      <td>1.0</td>\n",
       "      <td>4zida</td>\n",
       "      <td>2692</td>\n",
       "      <td>Karlovačka</td>\n",
       "    </tr>\n",
       "    <tr>\n",
       "      <th>11701</th>\n",
       "      <td>81</td>\n",
       "      <td>Beograd</td>\n",
       "      <td>2</td>\n",
       "      <td>Crveni Krst Vračar, Vračar</td>\n",
       "      <td>279449</td>\n",
       "      <td>3.5</td>\n",
       "      <td>4zida</td>\n",
       "      <td>3450</td>\n",
       "      <td>Gročanska</td>\n",
       "    </tr>\n",
       "    <tr>\n",
       "      <th>11702</th>\n",
       "      <td>92</td>\n",
       "      <td>Beograd</td>\n",
       "      <td>4</td>\n",
       "      <td>Crveni Krst Vračar, Vračar</td>\n",
       "      <td>315254</td>\n",
       "      <td>3.5</td>\n",
       "      <td>4zida</td>\n",
       "      <td>3427</td>\n",
       "      <td>Gročanska</td>\n",
       "    </tr>\n",
       "    <tr>\n",
       "      <th>11703</th>\n",
       "      <td>68</td>\n",
       "      <td>Beograd</td>\n",
       "      <td>4</td>\n",
       "      <td>Blok 70, Novi Beograd</td>\n",
       "      <td>215000</td>\n",
       "      <td>2.5</td>\n",
       "      <td>4zida</td>\n",
       "      <td>3162</td>\n",
       "      <td>Jurija Gagarina</td>\n",
       "    </tr>\n",
       "  </tbody>\n",
       "</table>\n",
       "<p>11704 rows × 9 columns</p>\n",
       "</div>"
      ]
     },
     "execution_count": 60,
     "metadata": {},
     "output_type": "execute_result"
    }
   ],
   "execution_count": 60
  },
  {
   "metadata": {
    "ExecuteTime": {
     "end_time": "2025-10-17T17:37:21.674291Z",
     "start_time": "2025-10-17T17:37:21.659314Z"
    }
   },
   "cell_type": "code",
   "source": "data.isna().sum()",
   "id": "c201cb7af194f49d",
   "outputs": [
    {
     "data": {
      "text/plain": [
       "area              0\n",
       "city              0\n",
       "floor           118\n",
       "location          0\n",
       "price             0\n",
       "rooms             0\n",
       "source            0\n",
       "square_price      0\n",
       "title             0\n",
       "dtype: int64"
      ]
     },
     "execution_count": 61,
     "metadata": {},
     "output_type": "execute_result"
    }
   ],
   "execution_count": 61
  },
  {
   "metadata": {
    "ExecuteTime": {
     "end_time": "2025-10-17T17:37:22.170903Z",
     "start_time": "2025-10-17T17:37:22.154209Z"
    }
   },
   "cell_type": "code",
   "source": [
    "data.dropna(inplace=True)\n",
    "data.isna().sum()"
   ],
   "id": "8ae04243d8fcdf1e",
   "outputs": [
    {
     "data": {
      "text/plain": [
       "area            0\n",
       "city            0\n",
       "floor           0\n",
       "location        0\n",
       "price           0\n",
       "rooms           0\n",
       "source          0\n",
       "square_price    0\n",
       "title           0\n",
       "dtype: int64"
      ]
     },
     "execution_count": 62,
     "metadata": {},
     "output_type": "execute_result"
    }
   ],
   "execution_count": 62
  },
  {
   "metadata": {},
   "cell_type": "markdown",
   "source": "There are no duplicates",
   "id": "4dd53036232b6771"
  },
  {
   "metadata": {
    "ExecuteTime": {
     "end_time": "2025-10-17T17:37:22.547283Z",
     "start_time": "2025-10-17T17:37:22.523660Z"
    }
   },
   "cell_type": "code",
   "source": "data.duplicated()",
   "id": "2119b7257a3f89d3",
   "outputs": [
    {
     "data": {
      "text/plain": [
       "0        False\n",
       "1        False\n",
       "2        False\n",
       "3        False\n",
       "4        False\n",
       "         ...  \n",
       "11699    False\n",
       "11700    False\n",
       "11701    False\n",
       "11702    False\n",
       "11703    False\n",
       "Length: 11586, dtype: bool"
      ]
     },
     "execution_count": 63,
     "metadata": {},
     "output_type": "execute_result"
    }
   ],
   "execution_count": 63
  },
  {
   "metadata": {},
   "cell_type": "markdown",
   "source": "Let's look for outliers. Minimum value in column square_price is 1, which will pollute our dataset",
   "id": "ec9150183bf54b20"
  },
  {
   "metadata": {
    "ExecuteTime": {
     "end_time": "2025-10-17T17:37:23.003903Z",
     "start_time": "2025-10-17T17:37:22.984750Z"
    }
   },
   "cell_type": "code",
   "source": "data.describe()",
   "id": "7803bc918e995789",
   "outputs": [
    {
     "data": {
      "text/plain": [
       "               area         price         rooms  square_price\n",
       "count  11586.000000  1.158600e+04  11586.000000  11586.000000\n",
       "mean      67.774124  1.652515e+05      2.576342   2370.175902\n",
       "std       34.358166  1.456085e+05      1.093482    939.331849\n",
       "min       14.000000  1.980000e+04      0.500000      1.000000\n",
       "25%       45.000000  8.862500e+04      2.000000   1705.000000\n",
       "50%       61.000000  1.287250e+05      2.500000   2237.000000\n",
       "75%       81.000000  1.971350e+05      3.000000   2809.000000\n",
       "max      885.000000  7.310888e+06      8.000000   9125.000000"
      ],
      "text/html": [
       "<div>\n",
       "<style scoped>\n",
       "    .dataframe tbody tr th:only-of-type {\n",
       "        vertical-align: middle;\n",
       "    }\n",
       "\n",
       "    .dataframe tbody tr th {\n",
       "        vertical-align: top;\n",
       "    }\n",
       "\n",
       "    .dataframe thead th {\n",
       "        text-align: right;\n",
       "    }\n",
       "</style>\n",
       "<table border=\"1\" class=\"dataframe\">\n",
       "  <thead>\n",
       "    <tr style=\"text-align: right;\">\n",
       "      <th></th>\n",
       "      <th>area</th>\n",
       "      <th>price</th>\n",
       "      <th>rooms</th>\n",
       "      <th>square_price</th>\n",
       "    </tr>\n",
       "  </thead>\n",
       "  <tbody>\n",
       "    <tr>\n",
       "      <th>count</th>\n",
       "      <td>11586.000000</td>\n",
       "      <td>1.158600e+04</td>\n",
       "      <td>11586.000000</td>\n",
       "      <td>11586.000000</td>\n",
       "    </tr>\n",
       "    <tr>\n",
       "      <th>mean</th>\n",
       "      <td>67.774124</td>\n",
       "      <td>1.652515e+05</td>\n",
       "      <td>2.576342</td>\n",
       "      <td>2370.175902</td>\n",
       "    </tr>\n",
       "    <tr>\n",
       "      <th>std</th>\n",
       "      <td>34.358166</td>\n",
       "      <td>1.456085e+05</td>\n",
       "      <td>1.093482</td>\n",
       "      <td>939.331849</td>\n",
       "    </tr>\n",
       "    <tr>\n",
       "      <th>min</th>\n",
       "      <td>14.000000</td>\n",
       "      <td>1.980000e+04</td>\n",
       "      <td>0.500000</td>\n",
       "      <td>1.000000</td>\n",
       "    </tr>\n",
       "    <tr>\n",
       "      <th>25%</th>\n",
       "      <td>45.000000</td>\n",
       "      <td>8.862500e+04</td>\n",
       "      <td>2.000000</td>\n",
       "      <td>1705.000000</td>\n",
       "    </tr>\n",
       "    <tr>\n",
       "      <th>50%</th>\n",
       "      <td>61.000000</td>\n",
       "      <td>1.287250e+05</td>\n",
       "      <td>2.500000</td>\n",
       "      <td>2237.000000</td>\n",
       "    </tr>\n",
       "    <tr>\n",
       "      <th>75%</th>\n",
       "      <td>81.000000</td>\n",
       "      <td>1.971350e+05</td>\n",
       "      <td>3.000000</td>\n",
       "      <td>2809.000000</td>\n",
       "    </tr>\n",
       "    <tr>\n",
       "      <th>max</th>\n",
       "      <td>885.000000</td>\n",
       "      <td>7.310888e+06</td>\n",
       "      <td>8.000000</td>\n",
       "      <td>9125.000000</td>\n",
       "    </tr>\n",
       "  </tbody>\n",
       "</table>\n",
       "</div>"
      ]
     },
     "execution_count": 64,
     "metadata": {},
     "output_type": "execute_result"
    }
   ],
   "execution_count": 64
  },
  {
   "metadata": {},
   "cell_type": "markdown",
   "source": "Let's try to find flats that have price which is not logical",
   "id": "d110f9119f56b24e"
  },
  {
   "metadata": {
    "ExecuteTime": {
     "end_time": "2025-10-17T17:37:23.454555Z",
     "start_time": "2025-10-17T17:37:23.436842Z"
    }
   },
   "cell_type": "code",
   "source": "data.loc[data.square_price < 600]",
   "id": "a68a5b31257aaf21",
   "outputs": [
    {
     "data": {
      "text/plain": [
       "       area          city floor  \\\n",
       "1595     67     Zrenjanin   0.5   \n",
       "1803     61      Leskovac     p   \n",
       "1952     68       Beograd     p   \n",
       "2080     70     Svilajnac     p   \n",
       "2376     75      Novi Sad     0   \n",
       "4005     99           Niš     0   \n",
       "4049    170           Niš     0   \n",
       "4149    135           Niš     0   \n",
       "4276     70        Apatin     p   \n",
       "4443     62        Odžaci     4   \n",
       "5398     61  Bačka Topola   0.5   \n",
       "5642    127          Ruma     p   \n",
       "5823     59          Čoka     p   \n",
       "5857    223       Beograd     0   \n",
       "5902     52     Zrenjanin     0   \n",
       "5948     99           Niš     0   \n",
       "6535     51       Beograd   0.5   \n",
       "7216     51       Beograd     p   \n",
       "7409    240      Leskovac     4   \n",
       "7693     72      Jagodina     p   \n",
       "7773    300      Kruševac     p   \n",
       "7907     64       Medveđa     1   \n",
       "10822    66    Gadžin Han     2   \n",
       "11313   218      Subotica     1   \n",
       "\n",
       "                                                location   price  rooms  \\\n",
       "1595                    Gradska lokacija, Zeleno Polje,    35000    3.0   \n",
       "1803                Gradska lokacija, Dubočica, Dubočica   36000    2.5   \n",
       "1952             Opština Lazarevac, Rudovci, Moše Pijade   23000    2.0   \n",
       "2080             Gradska lokacija, Širi centar, Mišarska   35000    4.0   \n",
       "2376                            Petrovaradin, Novi Majur   75000    2.0   \n",
       "4005                Palilula, Pasi poljana, Pasi poljana   45550    4.0   \n",
       "4049                      Palilula, 9. maj, Maršala Tita   53000    4.0   \n",
       "4149              Palilula, Palilula, Dimitrija Tucovića   77000    4.0   \n",
       "4276                          Gradska lokacija, Centar,    40000    2.0   \n",
       "4443                          Gradska lokacija, Centar,    30000    2.0   \n",
       "5398                 Okolno mesto, Krivaja, Nikole Tesle   26000    3.0   \n",
       "5642              Gradska lokacija, Vrbare, Rade Končara   60000    6.0   \n",
       "5823          Gradska lokacija, Širi centar, Moše Pijade   19800    2.0   \n",
       "5857    Opština Barajevo, Vranić, Ljubivoja Trišića Buce   89000    6.0   \n",
       "5902                       Gradska lokacija, Širi centar   28000    2.0   \n",
       "5948              Medijana, Duvanište, Aleksandra Belića   55000    2.0   \n",
       "6535       Opština Palilula, Padinska skela, Jabučki rit   26000    2.0   \n",
       "7216                Opština Palilula, Kovilovo, Vrbovski   30000    2.0   \n",
       "7409                          Gradska lokacija, Centar,   115000    3.5   \n",
       "7693                          Gradska lokacija, Kajsijar   36000    3.0   \n",
       "7773              Gradska lokacija, Bagdala, Trg fontana  120000    6.0   \n",
       "7907                          Gradska lokacija, Centar,    24000    2.5   \n",
       "10822                                   Gradske lokacije   38000    2.5   \n",
       "11313                                   Gradske lokacije   92000    5.0   \n",
       "\n",
       "           source  square_price  \\\n",
       "1595   halooglasi           522   \n",
       "1803   halooglasi           590   \n",
       "1952   halooglasi           338   \n",
       "2080   halooglasi           500   \n",
       "2376   halooglasi             1   \n",
       "4005   halooglasi           460   \n",
       "4049   halooglasi           312   \n",
       "4149   halooglasi           570   \n",
       "4276   halooglasi           571   \n",
       "4443   halooglasi           484   \n",
       "5398   halooglasi           426   \n",
       "5642   halooglasi           472   \n",
       "5823   halooglasi           336   \n",
       "5857   halooglasi           399   \n",
       "5902   halooglasi           538   \n",
       "5948   halooglasi           556   \n",
       "6535   halooglasi           510   \n",
       "7216   halooglasi           588   \n",
       "7409   halooglasi           479   \n",
       "7693   halooglasi           500   \n",
       "7773   halooglasi           400   \n",
       "7907   halooglasi           375   \n",
       "10822       4zida           576   \n",
       "11313       4zida           422   \n",
       "\n",
       "                                                   title  \n",
       "1595            Zrenjanin, Zeleno Polje, Stan, 3.0, 67m2  \n",
       "1803   Stan u kući u naselju Dubočica, 61m2, sa pomoćnim  \n",
       "1952                Lep dvosoban stan u koloniji Rudovci  \n",
       "2080           Trosoban stan u Mišarskoj ulici,Svilajnac  \n",
       "2376                                 ***Novo u ponudi***  \n",
       "4005                          Stan u kući u Pasi Poljani  \n",
       "4049   Sprat kuće u Suvom Dolu, 170 m2 sa udelom u placu  \n",
       "4149   Odličan stan u kući kod železničke stanice, u ...  \n",
       "4276               Komforan dvosoban stan 70m2, Iv sprat  \n",
       "4443                  Stan U Odžacima na 4 spratu, 62 m2  \n",
       "5398                    Krivaja,blizina banje,top ponuda  \n",
       "5642   Na prodaju dva dvorišna stana u tipu spratne kuće  \n",
       "5823                                     Stan na prodaju  \n",
       "5857                             Vranić  -  Centar   5,0  \n",
       "5902                               Širi centar, dvorišni  \n",
       "5948                        Stan u kući, 99m2, Duvanište  \n",
       "6535                            Jabučki rit 2.0 uknjižen  \n",
       "7216            Vrbovski, 51 m2, 2,0, II/2, TA, uknjižen  \n",
       "7409              Lux Penthouse u strogom centru ID#2152  \n",
       "7693                         Trosoban stan u kući-duplex  \n",
       "7773                               Kuca u Malom Golovodu  \n",
       "7907             Dvoiposoban stan, Lece, Medveđa ID#4511  \n",
       "10822                                   Miloša Obilića 8  \n",
       "11313                                     Mali Radanovac  "
      ],
      "text/html": [
       "<div>\n",
       "<style scoped>\n",
       "    .dataframe tbody tr th:only-of-type {\n",
       "        vertical-align: middle;\n",
       "    }\n",
       "\n",
       "    .dataframe tbody tr th {\n",
       "        vertical-align: top;\n",
       "    }\n",
       "\n",
       "    .dataframe thead th {\n",
       "        text-align: right;\n",
       "    }\n",
       "</style>\n",
       "<table border=\"1\" class=\"dataframe\">\n",
       "  <thead>\n",
       "    <tr style=\"text-align: right;\">\n",
       "      <th></th>\n",
       "      <th>area</th>\n",
       "      <th>city</th>\n",
       "      <th>floor</th>\n",
       "      <th>location</th>\n",
       "      <th>price</th>\n",
       "      <th>rooms</th>\n",
       "      <th>source</th>\n",
       "      <th>square_price</th>\n",
       "      <th>title</th>\n",
       "    </tr>\n",
       "  </thead>\n",
       "  <tbody>\n",
       "    <tr>\n",
       "      <th>1595</th>\n",
       "      <td>67</td>\n",
       "      <td>Zrenjanin</td>\n",
       "      <td>0.5</td>\n",
       "      <td>Gradska lokacija, Zeleno Polje,</td>\n",
       "      <td>35000</td>\n",
       "      <td>3.0</td>\n",
       "      <td>halooglasi</td>\n",
       "      <td>522</td>\n",
       "      <td>Zrenjanin, Zeleno Polje, Stan, 3.0, 67m2</td>\n",
       "    </tr>\n",
       "    <tr>\n",
       "      <th>1803</th>\n",
       "      <td>61</td>\n",
       "      <td>Leskovac</td>\n",
       "      <td>p</td>\n",
       "      <td>Gradska lokacija, Dubočica, Dubočica</td>\n",
       "      <td>36000</td>\n",
       "      <td>2.5</td>\n",
       "      <td>halooglasi</td>\n",
       "      <td>590</td>\n",
       "      <td>Stan u kući u naselju Dubočica, 61m2, sa pomoćnim</td>\n",
       "    </tr>\n",
       "    <tr>\n",
       "      <th>1952</th>\n",
       "      <td>68</td>\n",
       "      <td>Beograd</td>\n",
       "      <td>p</td>\n",
       "      <td>Opština Lazarevac, Rudovci, Moše Pijade</td>\n",
       "      <td>23000</td>\n",
       "      <td>2.0</td>\n",
       "      <td>halooglasi</td>\n",
       "      <td>338</td>\n",
       "      <td>Lep dvosoban stan u koloniji Rudovci</td>\n",
       "    </tr>\n",
       "    <tr>\n",
       "      <th>2080</th>\n",
       "      <td>70</td>\n",
       "      <td>Svilajnac</td>\n",
       "      <td>p</td>\n",
       "      <td>Gradska lokacija, Širi centar, Mišarska</td>\n",
       "      <td>35000</td>\n",
       "      <td>4.0</td>\n",
       "      <td>halooglasi</td>\n",
       "      <td>500</td>\n",
       "      <td>Trosoban stan u Mišarskoj ulici,Svilajnac</td>\n",
       "    </tr>\n",
       "    <tr>\n",
       "      <th>2376</th>\n",
       "      <td>75</td>\n",
       "      <td>Novi Sad</td>\n",
       "      <td>0</td>\n",
       "      <td>Petrovaradin, Novi Majur</td>\n",
       "      <td>75000</td>\n",
       "      <td>2.0</td>\n",
       "      <td>halooglasi</td>\n",
       "      <td>1</td>\n",
       "      <td>***Novo u ponudi***</td>\n",
       "    </tr>\n",
       "    <tr>\n",
       "      <th>4005</th>\n",
       "      <td>99</td>\n",
       "      <td>Niš</td>\n",
       "      <td>0</td>\n",
       "      <td>Palilula, Pasi poljana, Pasi poljana</td>\n",
       "      <td>45550</td>\n",
       "      <td>4.0</td>\n",
       "      <td>halooglasi</td>\n",
       "      <td>460</td>\n",
       "      <td>Stan u kući u Pasi Poljani</td>\n",
       "    </tr>\n",
       "    <tr>\n",
       "      <th>4049</th>\n",
       "      <td>170</td>\n",
       "      <td>Niš</td>\n",
       "      <td>0</td>\n",
       "      <td>Palilula, 9. maj, Maršala Tita</td>\n",
       "      <td>53000</td>\n",
       "      <td>4.0</td>\n",
       "      <td>halooglasi</td>\n",
       "      <td>312</td>\n",
       "      <td>Sprat kuće u Suvom Dolu, 170 m2 sa udelom u placu</td>\n",
       "    </tr>\n",
       "    <tr>\n",
       "      <th>4149</th>\n",
       "      <td>135</td>\n",
       "      <td>Niš</td>\n",
       "      <td>0</td>\n",
       "      <td>Palilula, Palilula, Dimitrija Tucovića</td>\n",
       "      <td>77000</td>\n",
       "      <td>4.0</td>\n",
       "      <td>halooglasi</td>\n",
       "      <td>570</td>\n",
       "      <td>Odličan stan u kući kod železničke stanice, u ...</td>\n",
       "    </tr>\n",
       "    <tr>\n",
       "      <th>4276</th>\n",
       "      <td>70</td>\n",
       "      <td>Apatin</td>\n",
       "      <td>p</td>\n",
       "      <td>Gradska lokacija, Centar,</td>\n",
       "      <td>40000</td>\n",
       "      <td>2.0</td>\n",
       "      <td>halooglasi</td>\n",
       "      <td>571</td>\n",
       "      <td>Komforan dvosoban stan 70m2, Iv sprat</td>\n",
       "    </tr>\n",
       "    <tr>\n",
       "      <th>4443</th>\n",
       "      <td>62</td>\n",
       "      <td>Odžaci</td>\n",
       "      <td>4</td>\n",
       "      <td>Gradska lokacija, Centar,</td>\n",
       "      <td>30000</td>\n",
       "      <td>2.0</td>\n",
       "      <td>halooglasi</td>\n",
       "      <td>484</td>\n",
       "      <td>Stan U Odžacima na 4 spratu, 62 m2</td>\n",
       "    </tr>\n",
       "    <tr>\n",
       "      <th>5398</th>\n",
       "      <td>61</td>\n",
       "      <td>Bačka Topola</td>\n",
       "      <td>0.5</td>\n",
       "      <td>Okolno mesto, Krivaja, Nikole Tesle</td>\n",
       "      <td>26000</td>\n",
       "      <td>3.0</td>\n",
       "      <td>halooglasi</td>\n",
       "      <td>426</td>\n",
       "      <td>Krivaja,blizina banje,top ponuda</td>\n",
       "    </tr>\n",
       "    <tr>\n",
       "      <th>5642</th>\n",
       "      <td>127</td>\n",
       "      <td>Ruma</td>\n",
       "      <td>p</td>\n",
       "      <td>Gradska lokacija, Vrbare, Rade Končara</td>\n",
       "      <td>60000</td>\n",
       "      <td>6.0</td>\n",
       "      <td>halooglasi</td>\n",
       "      <td>472</td>\n",
       "      <td>Na prodaju dva dvorišna stana u tipu spratne kuće</td>\n",
       "    </tr>\n",
       "    <tr>\n",
       "      <th>5823</th>\n",
       "      <td>59</td>\n",
       "      <td>Čoka</td>\n",
       "      <td>p</td>\n",
       "      <td>Gradska lokacija, Širi centar, Moše Pijade</td>\n",
       "      <td>19800</td>\n",
       "      <td>2.0</td>\n",
       "      <td>halooglasi</td>\n",
       "      <td>336</td>\n",
       "      <td>Stan na prodaju</td>\n",
       "    </tr>\n",
       "    <tr>\n",
       "      <th>5857</th>\n",
       "      <td>223</td>\n",
       "      <td>Beograd</td>\n",
       "      <td>0</td>\n",
       "      <td>Opština Barajevo, Vranić, Ljubivoja Trišića Buce</td>\n",
       "      <td>89000</td>\n",
       "      <td>6.0</td>\n",
       "      <td>halooglasi</td>\n",
       "      <td>399</td>\n",
       "      <td>Vranić  -  Centar   5,0</td>\n",
       "    </tr>\n",
       "    <tr>\n",
       "      <th>5902</th>\n",
       "      <td>52</td>\n",
       "      <td>Zrenjanin</td>\n",
       "      <td>0</td>\n",
       "      <td>Gradska lokacija, Širi centar</td>\n",
       "      <td>28000</td>\n",
       "      <td>2.0</td>\n",
       "      <td>halooglasi</td>\n",
       "      <td>538</td>\n",
       "      <td>Širi centar, dvorišni</td>\n",
       "    </tr>\n",
       "    <tr>\n",
       "      <th>5948</th>\n",
       "      <td>99</td>\n",
       "      <td>Niš</td>\n",
       "      <td>0</td>\n",
       "      <td>Medijana, Duvanište, Aleksandra Belića</td>\n",
       "      <td>55000</td>\n",
       "      <td>2.0</td>\n",
       "      <td>halooglasi</td>\n",
       "      <td>556</td>\n",
       "      <td>Stan u kući, 99m2, Duvanište</td>\n",
       "    </tr>\n",
       "    <tr>\n",
       "      <th>6535</th>\n",
       "      <td>51</td>\n",
       "      <td>Beograd</td>\n",
       "      <td>0.5</td>\n",
       "      <td>Opština Palilula, Padinska skela, Jabučki rit</td>\n",
       "      <td>26000</td>\n",
       "      <td>2.0</td>\n",
       "      <td>halooglasi</td>\n",
       "      <td>510</td>\n",
       "      <td>Jabučki rit 2.0 uknjižen</td>\n",
       "    </tr>\n",
       "    <tr>\n",
       "      <th>7216</th>\n",
       "      <td>51</td>\n",
       "      <td>Beograd</td>\n",
       "      <td>p</td>\n",
       "      <td>Opština Palilula, Kovilovo, Vrbovski</td>\n",
       "      <td>30000</td>\n",
       "      <td>2.0</td>\n",
       "      <td>halooglasi</td>\n",
       "      <td>588</td>\n",
       "      <td>Vrbovski, 51 m2, 2,0, II/2, TA, uknjižen</td>\n",
       "    </tr>\n",
       "    <tr>\n",
       "      <th>7409</th>\n",
       "      <td>240</td>\n",
       "      <td>Leskovac</td>\n",
       "      <td>4</td>\n",
       "      <td>Gradska lokacija, Centar,</td>\n",
       "      <td>115000</td>\n",
       "      <td>3.5</td>\n",
       "      <td>halooglasi</td>\n",
       "      <td>479</td>\n",
       "      <td>Lux Penthouse u strogom centru ID#2152</td>\n",
       "    </tr>\n",
       "    <tr>\n",
       "      <th>7693</th>\n",
       "      <td>72</td>\n",
       "      <td>Jagodina</td>\n",
       "      <td>p</td>\n",
       "      <td>Gradska lokacija, Kajsijar</td>\n",
       "      <td>36000</td>\n",
       "      <td>3.0</td>\n",
       "      <td>halooglasi</td>\n",
       "      <td>500</td>\n",
       "      <td>Trosoban stan u kući-duplex</td>\n",
       "    </tr>\n",
       "    <tr>\n",
       "      <th>7773</th>\n",
       "      <td>300</td>\n",
       "      <td>Kruševac</td>\n",
       "      <td>p</td>\n",
       "      <td>Gradska lokacija, Bagdala, Trg fontana</td>\n",
       "      <td>120000</td>\n",
       "      <td>6.0</td>\n",
       "      <td>halooglasi</td>\n",
       "      <td>400</td>\n",
       "      <td>Kuca u Malom Golovodu</td>\n",
       "    </tr>\n",
       "    <tr>\n",
       "      <th>7907</th>\n",
       "      <td>64</td>\n",
       "      <td>Medveđa</td>\n",
       "      <td>1</td>\n",
       "      <td>Gradska lokacija, Centar,</td>\n",
       "      <td>24000</td>\n",
       "      <td>2.5</td>\n",
       "      <td>halooglasi</td>\n",
       "      <td>375</td>\n",
       "      <td>Dvoiposoban stan, Lece, Medveđa ID#4511</td>\n",
       "    </tr>\n",
       "    <tr>\n",
       "      <th>10822</th>\n",
       "      <td>66</td>\n",
       "      <td>Gadžin Han</td>\n",
       "      <td>2</td>\n",
       "      <td>Gradske lokacije</td>\n",
       "      <td>38000</td>\n",
       "      <td>2.5</td>\n",
       "      <td>4zida</td>\n",
       "      <td>576</td>\n",
       "      <td>Miloša Obilića 8</td>\n",
       "    </tr>\n",
       "    <tr>\n",
       "      <th>11313</th>\n",
       "      <td>218</td>\n",
       "      <td>Subotica</td>\n",
       "      <td>1</td>\n",
       "      <td>Gradske lokacije</td>\n",
       "      <td>92000</td>\n",
       "      <td>5.0</td>\n",
       "      <td>4zida</td>\n",
       "      <td>422</td>\n",
       "      <td>Mali Radanovac</td>\n",
       "    </tr>\n",
       "  </tbody>\n",
       "</table>\n",
       "</div>"
      ]
     },
     "execution_count": 65,
     "metadata": {},
     "output_type": "execute_result"
    }
   ],
   "execution_count": 65
  },
  {
   "metadata": {},
   "cell_type": "markdown",
   "source": "There is only one flat like that so we will remove it",
   "id": "696f01684cb690e8"
  },
  {
   "metadata": {
    "ExecuteTime": {
     "end_time": "2025-10-17T17:37:23.864553Z",
     "start_time": "2025-10-17T17:37:23.855835Z"
    }
   },
   "cell_type": "code",
   "source": "data.drop(index=2376, inplace=True)",
   "id": "6159663810abe6e4",
   "outputs": [],
   "execution_count": 66
  },
  {
   "metadata": {},
   "cell_type": "markdown",
   "source": "After removing rows, let's reset index values",
   "id": "2cbde556508c35cd"
  },
  {
   "metadata": {
    "ExecuteTime": {
     "end_time": "2025-10-17T17:37:24.265543Z",
     "start_time": "2025-10-17T17:37:24.260106Z"
    }
   },
   "cell_type": "code",
   "source": "data.reset_index(drop=True, inplace=True)",
   "id": "66fc8cd9d4bf8453",
   "outputs": [],
   "execution_count": 67
  },
  {
   "metadata": {},
   "cell_type": "markdown",
   "source": "# Analysis",
   "id": "3e6bf02ac2578e76"
  },
  {
   "metadata": {},
   "cell_type": "markdown",
   "source": "Data is scraped from 2 main sources, websites \"halooglasi\" and \"4zida\"",
   "id": "62f75e917ab5f1aa"
  },
  {
   "metadata": {
    "ExecuteTime": {
     "end_time": "2025-10-17T17:37:24.493726Z",
     "start_time": "2025-10-17T17:37:24.483975Z"
    }
   },
   "cell_type": "code",
   "source": "data['source'].value_counts()",
   "id": "44b1c5315b1ec01a",
   "outputs": [
    {
     "data": {
      "text/plain": [
       "source\n",
       "halooglasi    9824\n",
       "4zida         1761\n",
       "Name: count, dtype: int64"
      ]
     },
     "execution_count": 68,
     "metadata": {},
     "output_type": "execute_result"
    }
   ],
   "execution_count": 68
  },
  {
   "metadata": {},
   "cell_type": "markdown",
   "source": "Apartment prices include data from 80 different Serbian cities",
   "id": "6f706c0e5912c343"
  },
  {
   "metadata": {
    "ExecuteTime": {
     "end_time": "2025-10-17T17:37:24.741389Z",
     "start_time": "2025-10-17T17:37:24.732906Z"
    }
   },
   "cell_type": "code",
   "source": "data['city'].nunique()",
   "id": "3352be7c549c77b2",
   "outputs": [
    {
     "data": {
      "text/plain": [
       "80"
      ]
     },
     "execution_count": 69,
     "metadata": {},
     "output_type": "execute_result"
    }
   ],
   "execution_count": 69
  },
  {
   "metadata": {
    "ExecuteTime": {
     "end_time": "2025-10-17T17:37:25.125218Z",
     "start_time": "2025-10-17T17:37:25.103744Z"
    }
   },
   "cell_type": "code",
   "source": "data.describe()",
   "id": "913173d5bf5cc6b2",
   "outputs": [
    {
     "data": {
      "text/plain": [
       "               area         price         rooms  square_price\n",
       "count  11585.000000  1.158500e+04  11585.000000  11585.000000\n",
       "mean      67.773500  1.652593e+05      2.576392   2370.380406\n",
       "std       34.359583  1.456124e+05      1.093516    939.114425\n",
       "min       14.000000  1.980000e+04      0.500000    312.000000\n",
       "25%       45.000000  8.870000e+04      2.000000   1705.000000\n",
       "50%       61.000000  1.287500e+05      2.500000   2237.000000\n",
       "75%       81.000000  1.971400e+05      3.000000   2809.000000\n",
       "max      885.000000  7.310888e+06      8.000000   9125.000000"
      ],
      "text/html": [
       "<div>\n",
       "<style scoped>\n",
       "    .dataframe tbody tr th:only-of-type {\n",
       "        vertical-align: middle;\n",
       "    }\n",
       "\n",
       "    .dataframe tbody tr th {\n",
       "        vertical-align: top;\n",
       "    }\n",
       "\n",
       "    .dataframe thead th {\n",
       "        text-align: right;\n",
       "    }\n",
       "</style>\n",
       "<table border=\"1\" class=\"dataframe\">\n",
       "  <thead>\n",
       "    <tr style=\"text-align: right;\">\n",
       "      <th></th>\n",
       "      <th>area</th>\n",
       "      <th>price</th>\n",
       "      <th>rooms</th>\n",
       "      <th>square_price</th>\n",
       "    </tr>\n",
       "  </thead>\n",
       "  <tbody>\n",
       "    <tr>\n",
       "      <th>count</th>\n",
       "      <td>11585.000000</td>\n",
       "      <td>1.158500e+04</td>\n",
       "      <td>11585.000000</td>\n",
       "      <td>11585.000000</td>\n",
       "    </tr>\n",
       "    <tr>\n",
       "      <th>mean</th>\n",
       "      <td>67.773500</td>\n",
       "      <td>1.652593e+05</td>\n",
       "      <td>2.576392</td>\n",
       "      <td>2370.380406</td>\n",
       "    </tr>\n",
       "    <tr>\n",
       "      <th>std</th>\n",
       "      <td>34.359583</td>\n",
       "      <td>1.456124e+05</td>\n",
       "      <td>1.093516</td>\n",
       "      <td>939.114425</td>\n",
       "    </tr>\n",
       "    <tr>\n",
       "      <th>min</th>\n",
       "      <td>14.000000</td>\n",
       "      <td>1.980000e+04</td>\n",
       "      <td>0.500000</td>\n",
       "      <td>312.000000</td>\n",
       "    </tr>\n",
       "    <tr>\n",
       "      <th>25%</th>\n",
       "      <td>45.000000</td>\n",
       "      <td>8.870000e+04</td>\n",
       "      <td>2.000000</td>\n",
       "      <td>1705.000000</td>\n",
       "    </tr>\n",
       "    <tr>\n",
       "      <th>50%</th>\n",
       "      <td>61.000000</td>\n",
       "      <td>1.287500e+05</td>\n",
       "      <td>2.500000</td>\n",
       "      <td>2237.000000</td>\n",
       "    </tr>\n",
       "    <tr>\n",
       "      <th>75%</th>\n",
       "      <td>81.000000</td>\n",
       "      <td>1.971400e+05</td>\n",
       "      <td>3.000000</td>\n",
       "      <td>2809.000000</td>\n",
       "    </tr>\n",
       "    <tr>\n",
       "      <th>max</th>\n",
       "      <td>885.000000</td>\n",
       "      <td>7.310888e+06</td>\n",
       "      <td>8.000000</td>\n",
       "      <td>9125.000000</td>\n",
       "    </tr>\n",
       "  </tbody>\n",
       "</table>\n",
       "</div>"
      ]
     },
     "execution_count": 70,
     "metadata": {},
     "output_type": "execute_result"
    }
   ],
   "execution_count": 70
  },
  {
   "metadata": {},
   "cell_type": "markdown",
   "source": [
    "We can notice the following:\n",
    "* average area is 67 square meters\n",
    "* average price is 165.251 euro\n",
    "* average price per square meter is 2370 euros\n",
    "* median price is 128.725 euros\n",
    "* median number of rooms is 2.5\n",
    "* median price per square meter is 2237 euros\n",
    "* most expensive flat has price of 9125 euros per square meter"
   ],
   "id": "302e73bc37fec308"
  },
  {
   "metadata": {},
   "cell_type": "markdown",
   "source": [
    "## Location extraction\n",
    "\n",
    "Let's first analyze location data from halooglasi"
   ],
   "id": "80c6b2cd326bd870"
  },
  {
   "metadata": {
    "ExecuteTime": {
     "end_time": "2025-10-17T17:37:25.412861Z",
     "start_time": "2025-10-17T17:37:25.397970Z"
    }
   },
   "cell_type": "code",
   "source": "data.loc[data['source'] == 'halooglasi', ['city', 'location']]",
   "id": "5f82620440a6c8",
   "outputs": [
    {
     "data": {
      "text/plain": [
       "                city                                           location\n",
       "0            Beograd      Opština Vračar, Hram svetog Save, Svetog Save\n",
       "1     Vrnjačka Banja               Gradska lokacija, Raj, Kosovska br.1\n",
       "2          Sokobanja   Gradska lokacija, Banjica, Profesora Dragolju...\n",
       "3          Sokobanja   Gradska lokacija, Banjica, Profesora Dragolju...\n",
       "4            Beograd      Opština Zemun, Altina, Ugrinovački put 8. deo\n",
       "...              ...                                                ...\n",
       "9819             Niš          Medijana, Dom zdravlja, Bulevar Nemanjića\n",
       "9820    Stara Pazova        Gradska lokacija, Centar, Ćirila i Metodija\n",
       "9821         Beograd    Opština Vračar, Kalenić pijaca, Hadži Prodanova\n",
       "9822             Niš       Medijana, Centar, Generala Milojka Lešjanina\n",
       "9823             Niš             Pantelej, Čalije, Momčila Milovanovića\n",
       "\n",
       "[9824 rows x 2 columns]"
      ],
      "text/html": [
       "<div>\n",
       "<style scoped>\n",
       "    .dataframe tbody tr th:only-of-type {\n",
       "        vertical-align: middle;\n",
       "    }\n",
       "\n",
       "    .dataframe tbody tr th {\n",
       "        vertical-align: top;\n",
       "    }\n",
       "\n",
       "    .dataframe thead th {\n",
       "        text-align: right;\n",
       "    }\n",
       "</style>\n",
       "<table border=\"1\" class=\"dataframe\">\n",
       "  <thead>\n",
       "    <tr style=\"text-align: right;\">\n",
       "      <th></th>\n",
       "      <th>city</th>\n",
       "      <th>location</th>\n",
       "    </tr>\n",
       "  </thead>\n",
       "  <tbody>\n",
       "    <tr>\n",
       "      <th>0</th>\n",
       "      <td>Beograd</td>\n",
       "      <td>Opština Vračar, Hram svetog Save, Svetog Save</td>\n",
       "    </tr>\n",
       "    <tr>\n",
       "      <th>1</th>\n",
       "      <td>Vrnjačka Banja</td>\n",
       "      <td>Gradska lokacija, Raj, Kosovska br.1</td>\n",
       "    </tr>\n",
       "    <tr>\n",
       "      <th>2</th>\n",
       "      <td>Sokobanja</td>\n",
       "      <td>Gradska lokacija, Banjica, Profesora Dragolju...</td>\n",
       "    </tr>\n",
       "    <tr>\n",
       "      <th>3</th>\n",
       "      <td>Sokobanja</td>\n",
       "      <td>Gradska lokacija, Banjica, Profesora Dragolju...</td>\n",
       "    </tr>\n",
       "    <tr>\n",
       "      <th>4</th>\n",
       "      <td>Beograd</td>\n",
       "      <td>Opština Zemun, Altina, Ugrinovački put 8. deo</td>\n",
       "    </tr>\n",
       "    <tr>\n",
       "      <th>...</th>\n",
       "      <td>...</td>\n",
       "      <td>...</td>\n",
       "    </tr>\n",
       "    <tr>\n",
       "      <th>9819</th>\n",
       "      <td>Niš</td>\n",
       "      <td>Medijana, Dom zdravlja, Bulevar Nemanjića</td>\n",
       "    </tr>\n",
       "    <tr>\n",
       "      <th>9820</th>\n",
       "      <td>Stara Pazova</td>\n",
       "      <td>Gradska lokacija, Centar, Ćirila i Metodija</td>\n",
       "    </tr>\n",
       "    <tr>\n",
       "      <th>9821</th>\n",
       "      <td>Beograd</td>\n",
       "      <td>Opština Vračar, Kalenić pijaca, Hadži Prodanova</td>\n",
       "    </tr>\n",
       "    <tr>\n",
       "      <th>9822</th>\n",
       "      <td>Niš</td>\n",
       "      <td>Medijana, Centar, Generala Milojka Lešjanina</td>\n",
       "    </tr>\n",
       "    <tr>\n",
       "      <th>9823</th>\n",
       "      <td>Niš</td>\n",
       "      <td>Pantelej, Čalije, Momčila Milovanovića</td>\n",
       "    </tr>\n",
       "  </tbody>\n",
       "</table>\n",
       "<p>9824 rows × 2 columns</p>\n",
       "</div>"
      ]
     },
     "execution_count": 71,
     "metadata": {},
     "output_type": "execute_result"
    }
   ],
   "execution_count": 71
  },
  {
   "metadata": {},
   "cell_type": "markdown",
   "source": "Let's analyze okolna lokacija and planina",
   "id": "52893d9b94ddfd5a"
  },
  {
   "metadata": {
    "ExecuteTime": {
     "end_time": "2025-10-17T17:37:25.840658Z",
     "start_time": "2025-10-17T17:37:25.817287Z"
    }
   },
   "cell_type": "code",
   "source": "data.loc[(data['source'] == 'halooglasi') & (data['location'].str.contains('Planina') | data['location'].str.contains('Okolno mesto')), ['city', 'location']]",
   "id": "ec3a13be000a707b",
   "outputs": [
    {
     "data": {
      "text/plain": [
       "          city                                           location\n",
       "5     Kopaonik                  Okolno mesto, Brzeće, Mramorska88\n",
       "32    Zlatibor                      Planina, Sloboda, Kiridžijska\n",
       "44    Kopaonik   Planina, Centar, Jovana Cvijića 44 - Vila Nikola\n",
       "151       Tara           Planina, Kaluđerske bare, Kremanske Kose\n",
       "197   Zlatibor                            Planina, Centar, Krfska\n",
       "...        ...                                                ...\n",
       "9794  Kopaonik                          Planina, Čajetinska česma\n",
       "9801  Kopaonik   Planina, Kraljevi čardaci, Miodraga Petrovića...\n",
       "9812  Zlatibor                                  Planina, Centar, \n",
       "9814  Kopaonik                        Planina, Kraljevi čardaci, \n",
       "9816  Kopaonik                                    Planina, Centar\n",
       "\n",
       "[565 rows x 2 columns]"
      ],
      "text/html": [
       "<div>\n",
       "<style scoped>\n",
       "    .dataframe tbody tr th:only-of-type {\n",
       "        vertical-align: middle;\n",
       "    }\n",
       "\n",
       "    .dataframe tbody tr th {\n",
       "        vertical-align: top;\n",
       "    }\n",
       "\n",
       "    .dataframe thead th {\n",
       "        text-align: right;\n",
       "    }\n",
       "</style>\n",
       "<table border=\"1\" class=\"dataframe\">\n",
       "  <thead>\n",
       "    <tr style=\"text-align: right;\">\n",
       "      <th></th>\n",
       "      <th>city</th>\n",
       "      <th>location</th>\n",
       "    </tr>\n",
       "  </thead>\n",
       "  <tbody>\n",
       "    <tr>\n",
       "      <th>5</th>\n",
       "      <td>Kopaonik</td>\n",
       "      <td>Okolno mesto, Brzeće, Mramorska88</td>\n",
       "    </tr>\n",
       "    <tr>\n",
       "      <th>32</th>\n",
       "      <td>Zlatibor</td>\n",
       "      <td>Planina, Sloboda, Kiridžijska</td>\n",
       "    </tr>\n",
       "    <tr>\n",
       "      <th>44</th>\n",
       "      <td>Kopaonik</td>\n",
       "      <td>Planina, Centar, Jovana Cvijića 44 - Vila Nikola</td>\n",
       "    </tr>\n",
       "    <tr>\n",
       "      <th>151</th>\n",
       "      <td>Tara</td>\n",
       "      <td>Planina, Kaluđerske bare, Kremanske Kose</td>\n",
       "    </tr>\n",
       "    <tr>\n",
       "      <th>197</th>\n",
       "      <td>Zlatibor</td>\n",
       "      <td>Planina, Centar, Krfska</td>\n",
       "    </tr>\n",
       "    <tr>\n",
       "      <th>...</th>\n",
       "      <td>...</td>\n",
       "      <td>...</td>\n",
       "    </tr>\n",
       "    <tr>\n",
       "      <th>9794</th>\n",
       "      <td>Kopaonik</td>\n",
       "      <td>Planina, Čajetinska česma</td>\n",
       "    </tr>\n",
       "    <tr>\n",
       "      <th>9801</th>\n",
       "      <td>Kopaonik</td>\n",
       "      <td>Planina, Kraljevi čardaci, Miodraga Petrovića...</td>\n",
       "    </tr>\n",
       "    <tr>\n",
       "      <th>9812</th>\n",
       "      <td>Zlatibor</td>\n",
       "      <td>Planina, Centar,</td>\n",
       "    </tr>\n",
       "    <tr>\n",
       "      <th>9814</th>\n",
       "      <td>Kopaonik</td>\n",
       "      <td>Planina, Kraljevi čardaci,</td>\n",
       "    </tr>\n",
       "    <tr>\n",
       "      <th>9816</th>\n",
       "      <td>Kopaonik</td>\n",
       "      <td>Planina, Centar</td>\n",
       "    </tr>\n",
       "  </tbody>\n",
       "</table>\n",
       "<p>565 rows × 2 columns</p>\n",
       "</div>"
      ]
     },
     "execution_count": 72,
     "metadata": {},
     "output_type": "execute_result"
    }
   ],
   "execution_count": 72
  },
  {
   "metadata": {
    "ExecuteTime": {
     "end_time": "2025-10-17T17:37:26.418055Z",
     "start_time": "2025-10-17T17:37:26.411495Z"
    }
   },
   "cell_type": "code",
   "source": [
    "planine_opstina = {\n",
    "    'kopaonik': 'brus',\n",
    "    'zlatibor': 'čajetina',\n",
    "    'tara': 'bajina bašta'\n",
    "}"
   ],
   "id": "d37eba43b2b50726",
   "outputs": [],
   "execution_count": 73
  },
  {
   "metadata": {
    "ExecuteTime": {
     "end_time": "2025-10-17T17:37:26.924196Z",
     "start_time": "2025-10-17T17:37:26.911157Z"
    }
   },
   "cell_type": "code",
   "source": "data.loc[data['source'] == '4zida', ['city', 'location']]",
   "id": "d9b2d4df6b60ad51",
   "outputs": [
    {
     "data": {
      "text/plain": [
       "           city                           location\n",
       "9824    Beograd      Meandri, Zemun, Zemun opština\n",
       "9825    Beograd         Čukarica, Čukarica opština\n",
       "9826   Kruševac                   Gradske lokacije\n",
       "9827    Beograd    Vojvode Stepe, Voždovac opština\n",
       "9828   Novi Sad            Liman, Gradske lokacije\n",
       "...         ...                                ...\n",
       "11580   Beograd                   Zvezdara opština\n",
       "11581   Beograd  Gornji Grad, Zemun, Zemun opština\n",
       "11582   Beograd         Crveni Krst Vračar, Vračar\n",
       "11583   Beograd         Crveni Krst Vračar, Vračar\n",
       "11584   Beograd              Blok 70, Novi Beograd\n",
       "\n",
       "[1761 rows x 2 columns]"
      ],
      "text/html": [
       "<div>\n",
       "<style scoped>\n",
       "    .dataframe tbody tr th:only-of-type {\n",
       "        vertical-align: middle;\n",
       "    }\n",
       "\n",
       "    .dataframe tbody tr th {\n",
       "        vertical-align: top;\n",
       "    }\n",
       "\n",
       "    .dataframe thead th {\n",
       "        text-align: right;\n",
       "    }\n",
       "</style>\n",
       "<table border=\"1\" class=\"dataframe\">\n",
       "  <thead>\n",
       "    <tr style=\"text-align: right;\">\n",
       "      <th></th>\n",
       "      <th>city</th>\n",
       "      <th>location</th>\n",
       "    </tr>\n",
       "  </thead>\n",
       "  <tbody>\n",
       "    <tr>\n",
       "      <th>9824</th>\n",
       "      <td>Beograd</td>\n",
       "      <td>Meandri, Zemun, Zemun opština</td>\n",
       "    </tr>\n",
       "    <tr>\n",
       "      <th>9825</th>\n",
       "      <td>Beograd</td>\n",
       "      <td>Čukarica, Čukarica opština</td>\n",
       "    </tr>\n",
       "    <tr>\n",
       "      <th>9826</th>\n",
       "      <td>Kruševac</td>\n",
       "      <td>Gradske lokacije</td>\n",
       "    </tr>\n",
       "    <tr>\n",
       "      <th>9827</th>\n",
       "      <td>Beograd</td>\n",
       "      <td>Vojvode Stepe, Voždovac opština</td>\n",
       "    </tr>\n",
       "    <tr>\n",
       "      <th>9828</th>\n",
       "      <td>Novi Sad</td>\n",
       "      <td>Liman, Gradske lokacije</td>\n",
       "    </tr>\n",
       "    <tr>\n",
       "      <th>...</th>\n",
       "      <td>...</td>\n",
       "      <td>...</td>\n",
       "    </tr>\n",
       "    <tr>\n",
       "      <th>11580</th>\n",
       "      <td>Beograd</td>\n",
       "      <td>Zvezdara opština</td>\n",
       "    </tr>\n",
       "    <tr>\n",
       "      <th>11581</th>\n",
       "      <td>Beograd</td>\n",
       "      <td>Gornji Grad, Zemun, Zemun opština</td>\n",
       "    </tr>\n",
       "    <tr>\n",
       "      <th>11582</th>\n",
       "      <td>Beograd</td>\n",
       "      <td>Crveni Krst Vračar, Vračar</td>\n",
       "    </tr>\n",
       "    <tr>\n",
       "      <th>11583</th>\n",
       "      <td>Beograd</td>\n",
       "      <td>Crveni Krst Vračar, Vračar</td>\n",
       "    </tr>\n",
       "    <tr>\n",
       "      <th>11584</th>\n",
       "      <td>Beograd</td>\n",
       "      <td>Blok 70, Novi Beograd</td>\n",
       "    </tr>\n",
       "  </tbody>\n",
       "</table>\n",
       "<p>1761 rows × 2 columns</p>\n",
       "</div>"
      ]
     },
     "execution_count": 74,
     "metadata": {},
     "output_type": "execute_result"
    }
   ],
   "execution_count": 74
  },
  {
   "metadata": {},
   "cell_type": "markdown",
   "source": [
    "We will use shapefiles located in data/shapefiles for plotting. Data is downloaded from https://gadm.org/download_country.html.\n",
    "\n",
    "Different files represent different levels of administrative division. For example gadm41_SRB_0.shp has borders of Serbia, gadm41_SRB_1 has borders of districts, gadm41_SRB_2.shp has borders of municipalities.\n",
    "\n",
    "* municipality = opstina (in Serbian)\n",
    "* district = okrug (in Serbian)"
   ],
   "id": "820e7c266e867267"
  },
  {
   "metadata": {
    "ExecuteTime": {
     "end_time": "2025-10-17T17:37:27.301640Z",
     "start_time": "2025-10-17T17:37:27.259361Z"
    }
   },
   "cell_type": "code",
   "source": [
    "opstine_gdf = gpd.read_file(DATA_DIR / 'shapefiles' / 'gadm41_SRB_2.shp')\n",
    "opstine_gdf # NAME_2 opstina, NAME_1 okrug"
   ],
   "id": "dd6ce3433d224f8b",
   "outputs": [
    {
     "data": {
      "text/plain": [
       "           GID_2 GID_0 COUNTRY     GID_1       NAME_1    NL_NAME_1  \\\n",
       "0      SRB.1.1_1   SRB  Serbia   SRB.1_1       Borski       Борски   \n",
       "1      SRB.1.2_1   SRB  Serbia   SRB.1_1       Borski       Борски   \n",
       "2      SRB.1.3_1   SRB  Serbia   SRB.1_1       Borski       Борски   \n",
       "3      SRB.1.4_1   SRB  Serbia   SRB.1_1       Borski       Борски   \n",
       "4      SRB.2.1_1   SRB  Serbia   SRB.2_1  Braničevski  Браничевски   \n",
       "..           ...   ...     ...       ...          ...          ...   \n",
       "156   SRB.25.6_1   SRB  Serbia  SRB.25_1  Zlatiborski  Златиборски   \n",
       "157   SRB.25.7_1   SRB  Serbia  SRB.25_1  Zlatiborski  Златиборски   \n",
       "158   SRB.25.8_1   SRB  Serbia  SRB.25_1  Zlatiborski  Златиборски   \n",
       "159   SRB.25.9_1   SRB  Serbia  SRB.25_1  Zlatiborski  Златиборски   \n",
       "160  SRB.25.10_1   SRB  Serbia  SRB.25_1  Zlatiborski  Златиборски   \n",
       "\n",
       "         NAME_2                       VARNAME_2  NL_NAME_2   TYPE_2  \\\n",
       "0           Bor                              NA        Бор  Opštine   \n",
       "1       Kladovo                 Claudia|Kladowo    Кладово  Opštine   \n",
       "2     Majdanpek                              NA  Мајданпек  Opštine   \n",
       "3       Negotin                              NA    Неготин  Opštine   \n",
       "4       Golubac  Galambóc|Golumbácz|Güvercinlik    Голубац  Opštine   \n",
       "..          ...                             ...        ...      ...   \n",
       "156      Požega                              NA     Пожега  Opštine   \n",
       "157      Priboj                              NA     Прибој  Opštine   \n",
       "158  Prijepolje                              NA  Пријепоље  Opštine   \n",
       "159     Sjenica                              NA    Сјеница  Opštine   \n",
       "160       Užice                              NA      Ужице  Opštine   \n",
       "\n",
       "          ENGTYPE_2 CC_2 HASC_2  \\\n",
       "0    Town|Municipal   NA     NA   \n",
       "1    Town|Municipal   NA     NA   \n",
       "2    Town|Municipal   NA     NA   \n",
       "3    Town|Municipal   NA     NA   \n",
       "4    Town|Municipal   NA     NA   \n",
       "..              ...  ...    ...   \n",
       "156  Town|Municipal   NA     NA   \n",
       "157  Town|Municipal   NA     NA   \n",
       "158  Town|Municipal   NA     NA   \n",
       "159  Town|Municipal   NA     NA   \n",
       "160  Town|Municipal   NA     NA   \n",
       "\n",
       "                                              geometry  \n",
       "0    POLYGON ((21.95543 44.17786, 21.96122 44.17815...  \n",
       "1    POLYGON ((22.64921 44.54113, 22.64846 44.54166...  \n",
       "2    POLYGON ((22.19147 44.49854, 22.19248 44.5, 22...  \n",
       "3    MULTIPOLYGON (((22.68511 44.20988, 22.68508 44...  \n",
       "4    POLYGON ((21.86947 44.6506, 21.87328 44.6498, ...  \n",
       "..                                                 ...  \n",
       "156  POLYGON ((20.00952 44.10419, 20.01237 44.10105...  \n",
       "157  POLYGON ((19.18567 43.53515, 19.19204 43.539, ...  \n",
       "158  POLYGON ((19.74372 43.15093, 19.73375 43.15038...  \n",
       "159  POLYGON ((20.03372 42.98514, 20.0263 42.99331,...  \n",
       "160  POLYGON ((19.50257 43.72368, 19.4915 43.72898,...  \n",
       "\n",
       "[161 rows x 14 columns]"
      ],
      "text/html": [
       "<div>\n",
       "<style scoped>\n",
       "    .dataframe tbody tr th:only-of-type {\n",
       "        vertical-align: middle;\n",
       "    }\n",
       "\n",
       "    .dataframe tbody tr th {\n",
       "        vertical-align: top;\n",
       "    }\n",
       "\n",
       "    .dataframe thead th {\n",
       "        text-align: right;\n",
       "    }\n",
       "</style>\n",
       "<table border=\"1\" class=\"dataframe\">\n",
       "  <thead>\n",
       "    <tr style=\"text-align: right;\">\n",
       "      <th></th>\n",
       "      <th>GID_2</th>\n",
       "      <th>GID_0</th>\n",
       "      <th>COUNTRY</th>\n",
       "      <th>GID_1</th>\n",
       "      <th>NAME_1</th>\n",
       "      <th>NL_NAME_1</th>\n",
       "      <th>NAME_2</th>\n",
       "      <th>VARNAME_2</th>\n",
       "      <th>NL_NAME_2</th>\n",
       "      <th>TYPE_2</th>\n",
       "      <th>ENGTYPE_2</th>\n",
       "      <th>CC_2</th>\n",
       "      <th>HASC_2</th>\n",
       "      <th>geometry</th>\n",
       "    </tr>\n",
       "  </thead>\n",
       "  <tbody>\n",
       "    <tr>\n",
       "      <th>0</th>\n",
       "      <td>SRB.1.1_1</td>\n",
       "      <td>SRB</td>\n",
       "      <td>Serbia</td>\n",
       "      <td>SRB.1_1</td>\n",
       "      <td>Borski</td>\n",
       "      <td>Борски</td>\n",
       "      <td>Bor</td>\n",
       "      <td>NA</td>\n",
       "      <td>Бор</td>\n",
       "      <td>Opštine</td>\n",
       "      <td>Town|Municipal</td>\n",
       "      <td>NA</td>\n",
       "      <td>NA</td>\n",
       "      <td>POLYGON ((21.95543 44.17786, 21.96122 44.17815...</td>\n",
       "    </tr>\n",
       "    <tr>\n",
       "      <th>1</th>\n",
       "      <td>SRB.1.2_1</td>\n",
       "      <td>SRB</td>\n",
       "      <td>Serbia</td>\n",
       "      <td>SRB.1_1</td>\n",
       "      <td>Borski</td>\n",
       "      <td>Борски</td>\n",
       "      <td>Kladovo</td>\n",
       "      <td>Claudia|Kladowo</td>\n",
       "      <td>Кладово</td>\n",
       "      <td>Opštine</td>\n",
       "      <td>Town|Municipal</td>\n",
       "      <td>NA</td>\n",
       "      <td>NA</td>\n",
       "      <td>POLYGON ((22.64921 44.54113, 22.64846 44.54166...</td>\n",
       "    </tr>\n",
       "    <tr>\n",
       "      <th>2</th>\n",
       "      <td>SRB.1.3_1</td>\n",
       "      <td>SRB</td>\n",
       "      <td>Serbia</td>\n",
       "      <td>SRB.1_1</td>\n",
       "      <td>Borski</td>\n",
       "      <td>Борски</td>\n",
       "      <td>Majdanpek</td>\n",
       "      <td>NA</td>\n",
       "      <td>Мајданпек</td>\n",
       "      <td>Opštine</td>\n",
       "      <td>Town|Municipal</td>\n",
       "      <td>NA</td>\n",
       "      <td>NA</td>\n",
       "      <td>POLYGON ((22.19147 44.49854, 22.19248 44.5, 22...</td>\n",
       "    </tr>\n",
       "    <tr>\n",
       "      <th>3</th>\n",
       "      <td>SRB.1.4_1</td>\n",
       "      <td>SRB</td>\n",
       "      <td>Serbia</td>\n",
       "      <td>SRB.1_1</td>\n",
       "      <td>Borski</td>\n",
       "      <td>Борски</td>\n",
       "      <td>Negotin</td>\n",
       "      <td>NA</td>\n",
       "      <td>Неготин</td>\n",
       "      <td>Opštine</td>\n",
       "      <td>Town|Municipal</td>\n",
       "      <td>NA</td>\n",
       "      <td>NA</td>\n",
       "      <td>MULTIPOLYGON (((22.68511 44.20988, 22.68508 44...</td>\n",
       "    </tr>\n",
       "    <tr>\n",
       "      <th>4</th>\n",
       "      <td>SRB.2.1_1</td>\n",
       "      <td>SRB</td>\n",
       "      <td>Serbia</td>\n",
       "      <td>SRB.2_1</td>\n",
       "      <td>Braničevski</td>\n",
       "      <td>Браничевски</td>\n",
       "      <td>Golubac</td>\n",
       "      <td>Galambóc|Golumbácz|Güvercinlik</td>\n",
       "      <td>Голубац</td>\n",
       "      <td>Opštine</td>\n",
       "      <td>Town|Municipal</td>\n",
       "      <td>NA</td>\n",
       "      <td>NA</td>\n",
       "      <td>POLYGON ((21.86947 44.6506, 21.87328 44.6498, ...</td>\n",
       "    </tr>\n",
       "    <tr>\n",
       "      <th>...</th>\n",
       "      <td>...</td>\n",
       "      <td>...</td>\n",
       "      <td>...</td>\n",
       "      <td>...</td>\n",
       "      <td>...</td>\n",
       "      <td>...</td>\n",
       "      <td>...</td>\n",
       "      <td>...</td>\n",
       "      <td>...</td>\n",
       "      <td>...</td>\n",
       "      <td>...</td>\n",
       "      <td>...</td>\n",
       "      <td>...</td>\n",
       "      <td>...</td>\n",
       "    </tr>\n",
       "    <tr>\n",
       "      <th>156</th>\n",
       "      <td>SRB.25.6_1</td>\n",
       "      <td>SRB</td>\n",
       "      <td>Serbia</td>\n",
       "      <td>SRB.25_1</td>\n",
       "      <td>Zlatiborski</td>\n",
       "      <td>Златиборски</td>\n",
       "      <td>Požega</td>\n",
       "      <td>NA</td>\n",
       "      <td>Пожега</td>\n",
       "      <td>Opštine</td>\n",
       "      <td>Town|Municipal</td>\n",
       "      <td>NA</td>\n",
       "      <td>NA</td>\n",
       "      <td>POLYGON ((20.00952 44.10419, 20.01237 44.10105...</td>\n",
       "    </tr>\n",
       "    <tr>\n",
       "      <th>157</th>\n",
       "      <td>SRB.25.7_1</td>\n",
       "      <td>SRB</td>\n",
       "      <td>Serbia</td>\n",
       "      <td>SRB.25_1</td>\n",
       "      <td>Zlatiborski</td>\n",
       "      <td>Златиборски</td>\n",
       "      <td>Priboj</td>\n",
       "      <td>NA</td>\n",
       "      <td>Прибој</td>\n",
       "      <td>Opštine</td>\n",
       "      <td>Town|Municipal</td>\n",
       "      <td>NA</td>\n",
       "      <td>NA</td>\n",
       "      <td>POLYGON ((19.18567 43.53515, 19.19204 43.539, ...</td>\n",
       "    </tr>\n",
       "    <tr>\n",
       "      <th>158</th>\n",
       "      <td>SRB.25.8_1</td>\n",
       "      <td>SRB</td>\n",
       "      <td>Serbia</td>\n",
       "      <td>SRB.25_1</td>\n",
       "      <td>Zlatiborski</td>\n",
       "      <td>Златиборски</td>\n",
       "      <td>Prijepolje</td>\n",
       "      <td>NA</td>\n",
       "      <td>Пријепоље</td>\n",
       "      <td>Opštine</td>\n",
       "      <td>Town|Municipal</td>\n",
       "      <td>NA</td>\n",
       "      <td>NA</td>\n",
       "      <td>POLYGON ((19.74372 43.15093, 19.73375 43.15038...</td>\n",
       "    </tr>\n",
       "    <tr>\n",
       "      <th>159</th>\n",
       "      <td>SRB.25.9_1</td>\n",
       "      <td>SRB</td>\n",
       "      <td>Serbia</td>\n",
       "      <td>SRB.25_1</td>\n",
       "      <td>Zlatiborski</td>\n",
       "      <td>Златиборски</td>\n",
       "      <td>Sjenica</td>\n",
       "      <td>NA</td>\n",
       "      <td>Сјеница</td>\n",
       "      <td>Opštine</td>\n",
       "      <td>Town|Municipal</td>\n",
       "      <td>NA</td>\n",
       "      <td>NA</td>\n",
       "      <td>POLYGON ((20.03372 42.98514, 20.0263 42.99331,...</td>\n",
       "    </tr>\n",
       "    <tr>\n",
       "      <th>160</th>\n",
       "      <td>SRB.25.10_1</td>\n",
       "      <td>SRB</td>\n",
       "      <td>Serbia</td>\n",
       "      <td>SRB.25_1</td>\n",
       "      <td>Zlatiborski</td>\n",
       "      <td>Златиборски</td>\n",
       "      <td>Užice</td>\n",
       "      <td>NA</td>\n",
       "      <td>Ужице</td>\n",
       "      <td>Opštine</td>\n",
       "      <td>Town|Municipal</td>\n",
       "      <td>NA</td>\n",
       "      <td>NA</td>\n",
       "      <td>POLYGON ((19.50257 43.72368, 19.4915 43.72898,...</td>\n",
       "    </tr>\n",
       "  </tbody>\n",
       "</table>\n",
       "<p>161 rows × 14 columns</p>\n",
       "</div>"
      ]
     },
     "execution_count": 75,
     "metadata": {},
     "output_type": "execute_result"
    }
   ],
   "execution_count": 75
  },
  {
   "metadata": {},
   "cell_type": "markdown",
   "source": "Let's first extract opstina names from shape data",
   "id": "a9fff75ee64ed8c4"
  },
  {
   "metadata": {
    "ExecuteTime": {
     "end_time": "2025-10-17T17:37:27.702074Z",
     "start_time": "2025-10-17T17:37:27.681223Z"
    }
   },
   "cell_type": "code",
   "source": [
    "map = gpd.read_file(DATA_DIR / 'shapefiles' / 'gadm41_SRB_2.shp')\n",
    "opstine = set()\n",
    "for o in map['NAME_2']:\n",
    "    opstine.add(o.lower())\n",
    "opstine"
   ],
   "id": "5311fd5b1cffc32b",
   "outputs": [
    {
     "data": {
      "text/plain": [
       "{'ada',\n",
       " 'aleksandrovac',\n",
       " 'aleksinac',\n",
       " 'alibunar',\n",
       " 'apatin',\n",
       " 'aranđelovac',\n",
       " 'arilje',\n",
       " 'babušnica',\n",
       " 'bajina bašta',\n",
       " 'barajevo',\n",
       " 'batočina',\n",
       " 'bač',\n",
       " 'bačka palanka',\n",
       " 'bačka topola',\n",
       " 'bački petrovac',\n",
       " 'bela crkva',\n",
       " 'bela palanka',\n",
       " 'beočin',\n",
       " 'bečej',\n",
       " 'blace',\n",
       " 'bogatić',\n",
       " 'bojnik',\n",
       " 'boljevac',\n",
       " 'bor',\n",
       " 'bosilegrad',\n",
       " 'brus',\n",
       " 'bujanovac',\n",
       " 'crna trava',\n",
       " 'despotovac',\n",
       " 'dimitrovgrad',\n",
       " 'doljevac',\n",
       " 'gadžin han',\n",
       " 'golubac',\n",
       " 'gornji milanovac',\n",
       " 'grocka',\n",
       " 'inđija',\n",
       " 'irig',\n",
       " 'ivanjica',\n",
       " 'jagodina',\n",
       " 'kanjiža',\n",
       " 'kikinda',\n",
       " 'kladovo',\n",
       " 'knić',\n",
       " 'knjaževac',\n",
       " 'koceljeva',\n",
       " 'kosjerić',\n",
       " 'kovačica',\n",
       " 'kovin',\n",
       " 'kragujevac',\n",
       " 'kraljevo',\n",
       " 'krupanj',\n",
       " 'kruševac',\n",
       " 'kula',\n",
       " 'kuršumlija',\n",
       " 'kučevo',\n",
       " 'lajkovac',\n",
       " 'lapovo',\n",
       " 'lazarevac',\n",
       " 'lebane',\n",
       " 'leskovac',\n",
       " 'ljig',\n",
       " 'ljubovija',\n",
       " 'loznica',\n",
       " 'lučani',\n",
       " 'majdanpek',\n",
       " 'mali iđoš',\n",
       " 'mali zvornik',\n",
       " 'malo crniće',\n",
       " 'medveđa',\n",
       " 'merošina',\n",
       " 'mionica',\n",
       " 'mladenovac',\n",
       " 'negotin',\n",
       " 'niš',\n",
       " 'nova crnja',\n",
       " 'nova varoš',\n",
       " 'novi beograd',\n",
       " 'novi kneževac',\n",
       " 'novi pazar',\n",
       " 'novi sad',\n",
       " 'obrenovac',\n",
       " 'odžaci',\n",
       " 'opovo',\n",
       " 'osečina',\n",
       " 'palilula',\n",
       " 'pančevo',\n",
       " 'paraćin',\n",
       " 'petrovac',\n",
       " 'pećinci',\n",
       " 'pirot',\n",
       " 'plandište',\n",
       " 'požarevac',\n",
       " 'požega',\n",
       " 'preševo',\n",
       " 'priboj',\n",
       " 'prijepolje',\n",
       " 'prokuplje',\n",
       " 'rakovica',\n",
       " 'rača',\n",
       " 'raška',\n",
       " 'ražanj',\n",
       " 'rekovac',\n",
       " 'ruma',\n",
       " 'savski venac',\n",
       " 'senta',\n",
       " 'sečanj',\n",
       " 'sjenica',\n",
       " 'smederevo',\n",
       " 'smederevska palanka',\n",
       " 'sokobanja',\n",
       " 'sombor',\n",
       " 'sopot',\n",
       " 'srbobran',\n",
       " 'sremska mitrovica',\n",
       " 'sremski karlovci',\n",
       " 'stara pazova',\n",
       " 'stari grad',\n",
       " 'subotica',\n",
       " 'surdulica',\n",
       " 'surčin',\n",
       " 'svilajnac',\n",
       " 'svrljig',\n",
       " 'temerin',\n",
       " 'titel',\n",
       " 'topola',\n",
       " 'trgovište',\n",
       " 'trstenik',\n",
       " 'tutin',\n",
       " 'ub',\n",
       " 'užice',\n",
       " 'valjevo',\n",
       " 'varvarin',\n",
       " 'velika plana',\n",
       " 'veliko gradište',\n",
       " 'vladimirci',\n",
       " 'vladičin han',\n",
       " 'vlasotince',\n",
       " 'voždovac',\n",
       " 'vranje',\n",
       " 'vračar',\n",
       " 'vrbas',\n",
       " 'vrnjačka banja',\n",
       " 'vršac',\n",
       " 'zaječar',\n",
       " 'zemun',\n",
       " 'zrenjanin',\n",
       " 'zvezdara',\n",
       " 'ćićevac',\n",
       " 'ćuprija',\n",
       " 'čajetina',\n",
       " 'čačak',\n",
       " 'čoka',\n",
       " 'čukarica',\n",
       " 'šabac',\n",
       " 'šid',\n",
       " 'žabalj',\n",
       " 'žabari',\n",
       " 'žagubica',\n",
       " 'žitište',\n",
       " 'žitorađa'}"
      ]
     },
     "execution_count": 76,
     "metadata": {},
     "output_type": "execute_result"
    }
   ],
   "execution_count": 76
  },
  {
   "metadata": {},
   "cell_type": "markdown",
   "source": [
    "Data scraped from different websites will have different patterns. Unfortunately this dataset is not consistent which will make things harder and more case handling will be required.\n",
    "\n",
    "A lot of apartment sale datasets do not have coordinates as columns. Coordinates should either be scraped from website or calculated. In this section, we will focus on extracting municipality location without coordinates data, only by using text available in dataset."
   ],
   "id": "bfad39450ddb9742"
  },
  {
   "metadata": {
    "ExecuteTime": {
     "end_time": "2025-10-17T17:37:28.079597Z",
     "start_time": "2025-10-17T17:37:28.067199Z"
    }
   },
   "cell_type": "code",
   "source": [
    "def extract_opstina(row) ->str:\n",
    "    location_data = [s.strip() for s in row['location'].split(',')]\n",
    "\n",
    "    if row['source'] == 'halooglasi':\n",
    "        s = location_data[0].lower().replace(\"opština\", \"\").strip()\n",
    "        if s in opstine:\n",
    "            return s.title()\n",
    "        if s in ['gradska lokacija', 'okolno mesto']:\n",
    "            if row['city'].lower() in opstine:\n",
    "                return row['city'].title()\n",
    "            elif row['city'].lower() in planine_opstina:\n",
    "                return planine_opstina[row['city'].lower()].title()\n",
    "        if s == 'planina' and row['city'].lower() in planine_opstina:\n",
    "            return planine_opstina[row['city'].lower()].title()\n",
    "        if row['city'].lower() in opstine:\n",
    "            return row['city'].title()\n",
    "        print(f'Nepoznato: {location_data[0]} {row['city']}')\n",
    "        return 'unknown'\n",
    "    elif row['source'] == '4zida':\n",
    "        s = location_data[-1].lower().replace(\"opština\", \"\").strip()\n",
    "        if s in opstine:\n",
    "            return s.title()\n",
    "        if s in ['gradske lokacije', 'okolne lokacije']:\n",
    "            if row['city'].lower() in opstine:\n",
    "                return row['city'].title()\n",
    "            elif row['city'].lower() in planine_opstina:\n",
    "                return planine_opstina[row['city'].lower()].title()\n",
    "        if s.lower() in planine_opstina:\n",
    "            return planine_opstina[row['city'].lower()].title()\n",
    "        print(f'Nepoznato: {location_data[-1]} {row['city']}')\n",
    "        return 'unknown'\n",
    "    raise RuntimeError('Value in column source is not halooglasi or 4zida')"
   ],
   "id": "b4198bf2a350c231",
   "outputs": [],
   "execution_count": 77
  },
  {
   "metadata": {},
   "cell_type": "markdown",
   "source": "Now let's apply function to dataset and create new column called opstina",
   "id": "ef26a5d2a8a73878"
  },
  {
   "metadata": {
    "ExecuteTime": {
     "end_time": "2025-10-17T17:37:28.550649Z",
     "start_time": "2025-10-17T17:37:28.351115Z"
    }
   },
   "cell_type": "code",
   "source": [
    "data['opstina'] = data.apply(extract_opstina, axis=1)\n",
    "data['opstina'].value_counts()"
   ],
   "id": "c903cc8ea046f824",
   "outputs": [
    {
     "name": "stdout",
     "output_type": "stream",
     "text": [
      "Nepoznato: Gradska lokacija Vranjska Banja\n",
      "Nepoznato: Gradska lokacija Petrovac na Mlavi\n",
      "Nepoznato: Gradska lokacija Petrovac na Mlavi\n",
      "Nepoznato: Fruška Gora Fruška Gora\n"
     ]
    },
    {
     "data": {
      "text/plain": [
       "opstina\n",
       "Novi Sad            3125\n",
       "Voždovac             795\n",
       "Novi Beograd         786\n",
       "Zvezdara             756\n",
       "Niš                  697\n",
       "                    ... \n",
       "Srbobran               1\n",
       "Gornji Milanovac       1\n",
       "Aleksandrovac          1\n",
       "Novi Kneževac          1\n",
       "Ljubovija              1\n",
       "Name: count, Length: 92, dtype: int64"
      ]
     },
     "execution_count": 78,
     "metadata": {},
     "output_type": "execute_result"
    }
   ],
   "execution_count": 78
  },
  {
   "metadata": {},
   "cell_type": "markdown",
   "source": "## Area vs square price",
   "id": "9c0dccf2a20aacef"
  },
  {
   "metadata": {
    "ExecuteTime": {
     "end_time": "2025-10-17T17:37:28.912133Z",
     "start_time": "2025-10-17T17:37:28.778481Z"
    }
   },
   "cell_type": "code",
   "source": [
    "fig, ax = plt.subplots(figsize=(9,6))\n",
    "\n",
    "ax.scatter(data['area'], data['square_price'], s=1, alpha=0.3)\n",
    "ax.set_ylabel('€/m²')\n",
    "ax.set_xlabel('Area')\n",
    "\n",
    "plt.show()"
   ],
   "id": "958d6c9f280234c3",
   "outputs": [
    {
     "data": {
      "text/plain": [
       "<Figure size 900x600 with 1 Axes>"
      ],
      "image/png": "[encoded data removed]"
     },
     "metadata": {},
     "output_type": "display_data"
    }
   ],
   "execution_count": 79
  },
  {
   "metadata": {},
   "cell_type": "markdown",
   "source": "There is no clear correlation between area and square price",
   "id": "12c508b487e4d4d0"
  },
  {
   "metadata": {},
   "cell_type": "markdown",
   "source": "There is one outlier, very large and very expensive apartment. It's located in Belgrade Waterfront (Beograd na vodi). We will keep it for now.",
   "id": "1bc01eb6e6c1bdbe"
  },
  {
   "metadata": {
    "ExecuteTime": {
     "end_time": "2025-10-17T17:37:29.171312Z",
     "start_time": "2025-10-17T17:37:29.157346Z"
    }
   },
   "cell_type": "code",
   "source": "data.loc[data['area'] > 800]",
   "id": "7bd7d80a95c66e95",
   "outputs": [
    {
     "data": {
      "text/plain": [
       "    area     city floor                                           location  \\\n",
       "56   885  Beograd     p   Opština Savski venac, Beograd na vodi, Herceg...   \n",
       "\n",
       "      price  rooms      source  square_price  \\\n",
       "56  7310888    6.0  halooglasi          8263   \n",
       "\n",
       "                                  title       opstina  \n",
       "56  BW Riviera, stan sa bazenom ID#9324  Savski Venac  "
      ],
      "text/html": [
       "<div>\n",
       "<style scoped>\n",
       "    .dataframe tbody tr th:only-of-type {\n",
       "        vertical-align: middle;\n",
       "    }\n",
       "\n",
       "    .dataframe tbody tr th {\n",
       "        vertical-align: top;\n",
       "    }\n",
       "\n",
       "    .dataframe thead th {\n",
       "        text-align: right;\n",
       "    }\n",
       "</style>\n",
       "<table border=\"1\" class=\"dataframe\">\n",
       "  <thead>\n",
       "    <tr style=\"text-align: right;\">\n",
       "      <th></th>\n",
       "      <th>area</th>\n",
       "      <th>city</th>\n",
       "      <th>floor</th>\n",
       "      <th>location</th>\n",
       "      <th>price</th>\n",
       "      <th>rooms</th>\n",
       "      <th>source</th>\n",
       "      <th>square_price</th>\n",
       "      <th>title</th>\n",
       "      <th>opstina</th>\n",
       "    </tr>\n",
       "  </thead>\n",
       "  <tbody>\n",
       "    <tr>\n",
       "      <th>56</th>\n",
       "      <td>885</td>\n",
       "      <td>Beograd</td>\n",
       "      <td>p</td>\n",
       "      <td>Opština Savski venac, Beograd na vodi, Herceg...</td>\n",
       "      <td>7310888</td>\n",
       "      <td>6.0</td>\n",
       "      <td>halooglasi</td>\n",
       "      <td>8263</td>\n",
       "      <td>BW Riviera, stan sa bazenom ID#9324</td>\n",
       "      <td>Savski Venac</td>\n",
       "    </tr>\n",
       "  </tbody>\n",
       "</table>\n",
       "</div>"
      ]
     },
     "execution_count": 80,
     "metadata": {},
     "output_type": "execute_result"
    }
   ],
   "execution_count": 80
  },
  {
   "metadata": {},
   "cell_type": "markdown",
   "source": "#### Number of rooms vs area",
   "id": "9741ce8c20557307"
  },
  {
   "metadata": {
    "ExecuteTime": {
     "end_time": "2025-10-17T17:37:29.586568Z",
     "start_time": "2025-10-17T17:37:29.404190Z"
    }
   },
   "cell_type": "code",
   "source": [
    "fig, ax = plt.subplots(figsize=(9,6))\n",
    "\n",
    "ax.scatter(data['rooms'], data['area'], alpha=0.2)\n",
    "\n",
    "plt.show()"
   ],
   "id": "dea7563b3034b6e3",
   "outputs": [
    {
     "data": {
      "text/plain": [
       "<Figure size 900x600 with 1 Axes>"
      ],
      "image/png": "[encoded data removed]"
     },
     "metadata": {},
     "output_type": "display_data"
    }
   ],
   "execution_count": 81
  },
  {
   "metadata": {},
   "cell_type": "markdown",
   "source": "intuitively, there is positive correlation between area and number of rooms",
   "id": "849f42aaf285d46c"
  },
  {
   "metadata": {},
   "cell_type": "markdown",
   "source": "## Area distribution",
   "id": "dbc2a929e98750f"
  },
  {
   "metadata": {
    "ExecuteTime": {
     "end_time": "2025-10-17T17:37:30.122560Z",
     "start_time": "2025-10-17T17:37:29.914807Z"
    }
   },
   "cell_type": "code",
   "source": [
    "fig, ax = plt.subplots(figsize=(10,4))\n",
    "\n",
    "ax.hist(data['area'], bins=50)\n",
    "ax.set_xlim(0,400) # ignore outlier\n",
    "ax.set_xlabel('Area in m^2')\n",
    "\n",
    "plt.show()"
   ],
   "id": "c181e3bc887309e8",
   "outputs": [
    {
     "data": {
      "text/plain": [
       "<Figure size 1000x400 with 1 Axes>"
      ],
      "image/png": "[encoded data removed]"
     },
     "metadata": {},
     "output_type": "display_data"
    }
   ],
   "execution_count": 82
  },
  {
   "metadata": {},
   "cell_type": "markdown",
   "source": "## Square price analysis",
   "id": "e3c7719828b76d49"
  },
  {
   "metadata": {},
   "cell_type": "markdown",
   "source": "#### square price distribution in Serbia",
   "id": "86553fa2c296ae98"
  },
  {
   "metadata": {
    "ExecuteTime": {
     "end_time": "2025-10-17T17:37:30.422983Z",
     "start_time": "2025-10-17T17:37:30.260520Z"
    }
   },
   "cell_type": "code",
   "source": [
    "fig, ax = plt.subplots(figsize=(10,4))\n",
    "\n",
    "ax.hist(data['square_price'], bins=30)\n",
    "ax.set_xlabel('€/m²')\n",
    "\n",
    "plt.show()"
   ],
   "id": "3bd7fcd942aa1294",
   "outputs": [
    {
     "data": {
      "text/plain": [
       "<Figure size 1000x400 with 1 Axes>"
      ],
      "image/png": "[encoded data removed]"
     },
     "metadata": {},
     "output_type": "display_data"
    }
   ],
   "execution_count": 83
  },
  {
   "metadata": {},
   "cell_type": "markdown",
   "source": "#### Price analysis in other locations",
   "id": "9581591fe13295b1"
  },
  {
   "metadata": {},
   "cell_type": "markdown",
   "source": "Locations such as mountains and spa-s are very popular in real-estate market. There are several popular locations like this in Serbia, including Kopaonik and Zlatibor mountain and Vrnjacka Banja and Sokobanja spa-s (where thermomineral springs are located)",
   "id": "4dbb58b6d7f14a7f"
  },
  {
   "metadata": {
    "ExecuteTime": {
     "end_time": "2025-10-17T17:37:30.554127Z",
     "start_time": "2025-10-17T17:37:30.547476Z"
    }
   },
   "cell_type": "code",
   "source": "other_locations = data[data['city'].isin(['Kopaonik', 'Vrnjačka Banja', 'Zlatibor', 'Sokobanja'])]",
   "id": "5e7bc0a63aa9414c",
   "outputs": [],
   "execution_count": 84
  },
  {
   "metadata": {},
   "cell_type": "markdown",
   "source": "Let's see how many rows we have for each of those locations in dataset and average price",
   "id": "f40b4766e2279896"
  },
  {
   "metadata": {
    "ExecuteTime": {
     "end_time": "2025-10-17T17:37:30.674836Z",
     "start_time": "2025-10-17T17:37:30.662280Z"
    }
   },
   "cell_type": "code",
   "source": "other_locations.groupby('city')['square_price'].agg(['mean','count']).sort_values(by='mean',ascending=False)",
   "id": "5fd036830ef3de7",
   "outputs": [
    {
     "data": {
      "text/plain": [
       "                       mean  count\n",
       "city                              \n",
       "Kopaonik        2574.317708    192\n",
       "Zlatibor        2028.581994    311\n",
       "Vrnjačka Banja  1821.647059    306\n",
       "Sokobanja       1812.000000     17"
      ],
      "text/html": [
       "<div>\n",
       "<style scoped>\n",
       "    .dataframe tbody tr th:only-of-type {\n",
       "        vertical-align: middle;\n",
       "    }\n",
       "\n",
       "    .dataframe tbody tr th {\n",
       "        vertical-align: top;\n",
       "    }\n",
       "\n",
       "    .dataframe thead th {\n",
       "        text-align: right;\n",
       "    }\n",
       "</style>\n",
       "<table border=\"1\" class=\"dataframe\">\n",
       "  <thead>\n",
       "    <tr style=\"text-align: right;\">\n",
       "      <th></th>\n",
       "      <th>mean</th>\n",
       "      <th>count</th>\n",
       "    </tr>\n",
       "    <tr>\n",
       "      <th>city</th>\n",
       "      <th></th>\n",
       "      <th></th>\n",
       "    </tr>\n",
       "  </thead>\n",
       "  <tbody>\n",
       "    <tr>\n",
       "      <th>Kopaonik</th>\n",
       "      <td>2574.317708</td>\n",
       "      <td>192</td>\n",
       "    </tr>\n",
       "    <tr>\n",
       "      <th>Zlatibor</th>\n",
       "      <td>2028.581994</td>\n",
       "      <td>311</td>\n",
       "    </tr>\n",
       "    <tr>\n",
       "      <th>Vrnjačka Banja</th>\n",
       "      <td>1821.647059</td>\n",
       "      <td>306</td>\n",
       "    </tr>\n",
       "    <tr>\n",
       "      <th>Sokobanja</th>\n",
       "      <td>1812.000000</td>\n",
       "      <td>17</td>\n",
       "    </tr>\n",
       "  </tbody>\n",
       "</table>\n",
       "</div>"
      ]
     },
     "execution_count": 85,
     "metadata": {},
     "output_type": "execute_result"
    }
   ],
   "execution_count": 85
  },
  {
   "metadata": {
    "ExecuteTime": {
     "end_time": "2025-10-17T17:45:35.461638Z",
     "start_time": "2025-10-17T17:45:34.342868Z"
    }
   },
   "cell_type": "code",
   "source": [
    "g = sb.FacetGrid(other_locations, col='city', col_wrap=2, sharex=False, sharey=False, height=4)\n",
    "g.map(plt.hist, 'square_price', bins=20, color='purple')\n",
    "\n",
    "plt.subplots_adjust(top=0.85)\n",
    "g.fig.suptitle('Histograms')\n",
    "plt.show()"
   ],
   "id": "2e0685c8519ca2e6",
   "outputs": [
    {
     "data": {
      "text/plain": [
       "<Figure size 800x800 with 4 Axes>"
      ],
      "image/png": "[encoded data removed]"
     },
     "metadata": {},
     "output_type": "display_data"
    }
   ],
   "execution_count": 127
  },
  {
   "metadata": {
    "ExecuteTime": {
     "end_time": "2025-10-17T17:37:32.274861Z",
     "start_time": "2025-10-17T17:37:32.037764Z"
    }
   },
   "cell_type": "code",
   "source": [
    "plt.figure(figsize=(8, 5))\n",
    "sb.violinplot(data=other_locations, x='city', y='square_price', hue='city', palette='Set2')\n",
    "\n",
    "plt.title('Distribution by location')\n",
    "plt.xlabel('Location')\n",
    "plt.ylabel('€/m²')\n",
    "plt.show()"
   ],
   "id": "cbe1127ba8072c91",
   "outputs": [
    {
     "data": {
      "text/plain": [
       "<Figure size 800x500 with 1 Axes>"
      ],
      "image/png": "[encoded data removed]"
     },
     "metadata": {},
     "output_type": "display_data"
    }
   ],
   "execution_count": 87
  },
  {
   "metadata": {},
   "cell_type": "markdown",
   "source": [
    "Here are the observations:\n",
    "* Kopaonik has high variance in prices. We can see 2 accumulation points, around 2000 and 5000. There are less apartments with price 3000-4000 €/m².\n",
    "* Vrnjacka banja has low variance and symmetric distribution around mean of 1800."
   ],
   "id": "c21d4e1dcf98b21"
  },
  {
   "metadata": {},
   "cell_type": "markdown",
   "source": "#### Average square price in cities",
   "id": "2866ea40289506da"
  },
  {
   "metadata": {
    "ExecuteTime": {
     "end_time": "2025-10-17T17:37:32.760910Z",
     "start_time": "2025-10-17T17:37:32.446806Z"
    }
   },
   "cell_type": "code",
   "source": [
    "average_price = data.groupby('city').square_price.agg(['mean', 'count'])\n",
    "average_price = average_price.loc[average_price['count'] > 7, :]\n",
    "average_price.sort_values(by='mean', ascending=False, inplace=True)\n",
    "x = average_price.index.tolist()\n",
    "y = average_price['mean'].tolist()\n",
    "\n",
    "fig, ax = plt.subplots(figsize=(10, 5))\n",
    "\n",
    "ax.bar(x,y, color='teal')\n",
    "ax.set_title('Average price in different cities')\n",
    "ax.tick_params(axis='x', rotation=90)\n",
    "ax.set_ylabel('€/m²')\n",
    "\n",
    "plt.show()"
   ],
   "id": "4fea63fa8075623b",
   "outputs": [
    {
     "data": {
      "text/plain": [
       "<Figure size 1000x500 with 1 Axes>"
      ],
      "image/png": "[encoded data removed]"
     },
     "metadata": {},
     "output_type": "display_data"
    }
   ],
   "execution_count": 88
  },
  {
   "metadata": {},
   "cell_type": "markdown",
   "source": "## Square price distribution in main cities",
   "id": "9de5917f6d421ba"
  },
  {
   "metadata": {
    "ExecuteTime": {
     "end_time": "2025-10-17T17:37:33.125288Z",
     "start_time": "2025-10-17T17:37:32.809404Z"
    }
   },
   "cell_type": "code",
   "source": [
    "main_cities = data.loc[data['city'].isin(['Niš', 'Novi Sad', 'Beograd', 'Kragujevac', 'Subotica'])]\n",
    "\n",
    "fig, ax = plt.subplots(figsize=(8,6))\n",
    "\n",
    "sb.violinplot(ax=ax, data=main_cities, x='city', y='square_price', hue='city', palette='Set1')\n",
    "ax.set_xlabel('Serbian city')\n",
    "ax.set_ylabel('€/m²')\n",
    "ax.grid(True, 'major', axis='y', alpha=0.5)\n",
    "ax.set_yticks(range(0,10000, 1000))\n",
    "plt.show()"
   ],
   "id": "1f1972069fbba371",
   "outputs": [
    {
     "data": {
      "text/plain": [
       "<Figure size 800x600 with 1 Axes>"
      ],
      "image/png": "[encoded data removed]"
     },
     "metadata": {},
     "output_type": "display_data"
    }
   ],
   "execution_count": 89
  },
  {
   "metadata": {},
   "cell_type": "markdown",
   "source": "Belgrade prices have very high variance compared to other cities",
   "id": "28bd2caa32d53520"
  },
  {
   "metadata": {},
   "cell_type": "markdown",
   "source": "## Square price in parts of Belgrade",
   "id": "16c1f88ee0b03904"
  },
  {
   "metadata": {},
   "cell_type": "markdown",
   "source": "Square meter price in some belgrade municipalities",
   "id": "9f19d8cd21440a9a"
  },
  {
   "metadata": {
    "ExecuteTime": {
     "end_time": "2025-10-17T17:37:33.520008Z",
     "start_time": "2025-10-17T17:37:33.196893Z"
    }
   },
   "cell_type": "code",
   "source": [
    "belgrade = data.loc[(data['city'] == 'Beograd') & data['opstina'].isin(['Savski Venac', 'Voždovac', 'Vračar', 'Novi Beograd', 'Stari Grad', 'Zvezdara', 'Zemun'])]\n",
    "order = belgrade.groupby('opstina')['square_price'].mean().sort_values(ascending=False).index\n",
    "fig, ax = plt.subplots(figsize=(12,6))\n",
    "\n",
    "sb.violinplot(ax=ax, data=belgrade, order=order,  x='opstina', y='square_price', hue='opstina', palette='tab10')\n",
    "ax.set_title('Price distribution in parts of Belgrade')\n",
    "ax.set_ylabel('€/m²')\n",
    "ax.set_xlabel('Municipality')\n",
    "ax.grid(True, 'major', axis='y', alpha=0.5)\n",
    "ax.set_yticks(range(0,10000, 1000))\n",
    "plt.show()"
   ],
   "id": "214074ec9cdfe2d0",
   "outputs": [
    {
     "data": {
      "text/plain": [
       "<Figure size 1200x600 with 1 Axes>"
      ],
      "image/png": "[encoded data removed]"
     },
     "metadata": {},
     "output_type": "display_data"
    }
   ],
   "execution_count": 90
  },
  {
   "metadata": {},
   "cell_type": "markdown",
   "source": [
    "Here is what we can conclude:\n",
    "* municipality Savski Venac has very high variance in values\n",
    "* municipalities Savski Venac, Stari Grad, Vracar and Novi Beograd are skewed towards higher values"
   ],
   "id": "78f08e3a2c226895"
  },
  {
   "metadata": {},
   "cell_type": "markdown",
   "source": "## Plotting average square price per municipality",
   "id": "ff18d7724d1c563a"
  },
  {
   "metadata": {},
   "cell_type": "markdown",
   "source": "We will group data by opstina (municipality), calculate mean square_square price and count number of apartments for sale per opstina. Only opstina with count > 7 will be considered in this case.",
   "id": "522b179c0b0de995"
  },
  {
   "metadata": {
    "ExecuteTime": {
     "end_time": "2025-10-17T17:37:33.580191Z",
     "start_time": "2025-10-17T17:37:33.564276Z"
    }
   },
   "cell_type": "code",
   "source": [
    "mean_square_price = data.groupby('opstina').square_price.agg(['mean', 'count']).sort_values(by='count', ascending=False)\n",
    "mean_square_price  = mean_square_price .loc[mean_square_price ['count'] > 7]\n",
    "mean_square_price"
   ],
   "id": "6f83d2f02ff846cf",
   "outputs": [
    {
     "data": {
      "text/plain": [
       "                          mean  count\n",
       "opstina                              \n",
       "Novi Sad           2315.002880   3125\n",
       "Voždovac           2598.821384    795\n",
       "Novi Beograd       2897.754453    786\n",
       "Zvezdara           2465.493386    756\n",
       "Niš                1633.903874    697\n",
       "Palilula           2166.900312    642\n",
       "Vračar             3661.267361    576\n",
       "Zemun              2262.304878    574\n",
       "Savski Venac       3932.400000    455\n",
       "Čukarica           2388.801075    372\n",
       "Stari Grad         3768.559420    345\n",
       "Čajetina           2030.188679    318\n",
       "Vrnjačka Banja     1821.647059    306\n",
       "Rakovica           1943.076087    276\n",
       "Kragujevac         1462.933054    239\n",
       "Brus               2574.317708    192\n",
       "Pančevo            1416.756906    181\n",
       "Jagodina           1322.965278    144\n",
       "Stara Pazova       1335.149123    114\n",
       "Subotica           1400.871795     78\n",
       "Zrenjanin          1077.920635     63\n",
       "Sombor             1062.414634     41\n",
       "Kruševac           1156.657895     38\n",
       "Grocka             1428.361111     36\n",
       "Valjevo            1901.939394     33\n",
       "Mladenovac         1535.607143     28\n",
       "Leskovac           1097.615385     26\n",
       "Surčin             1682.818182     22\n",
       "Obrenovac          1530.047619     21\n",
       "Čačak              1171.947368     19\n",
       "Ruma               1481.684211     19\n",
       "Sokobanja          1812.000000     17\n",
       "Inđija             1348.562500     16\n",
       "Ćuprija            1000.500000     14\n",
       "Smederevo          1259.615385     13\n",
       "Veliko Gradište    1340.000000     12\n",
       "Užice              1137.272727     11\n",
       "Barajevo            833.181818     11\n",
       "Irig               2192.800000     10\n",
       "Loznica            1422.444444      9\n",
       "Sremska Mitrovica  1679.222222      9\n",
       "Šabac              1493.125000      8\n",
       "Temerin            1444.625000      8\n",
       "Trstenik            979.125000      8\n",
       "Sopot              1767.125000      8"
      ],
      "text/html": [
       "<div>\n",
       "<style scoped>\n",
       "    .dataframe tbody tr th:only-of-type {\n",
       "        vertical-align: middle;\n",
       "    }\n",
       "\n",
       "    .dataframe tbody tr th {\n",
       "        vertical-align: top;\n",
       "    }\n",
       "\n",
       "    .dataframe thead th {\n",
       "        text-align: right;\n",
       "    }\n",
       "</style>\n",
       "<table border=\"1\" class=\"dataframe\">\n",
       "  <thead>\n",
       "    <tr style=\"text-align: right;\">\n",
       "      <th></th>\n",
       "      <th>mean</th>\n",
       "      <th>count</th>\n",
       "    </tr>\n",
       "    <tr>\n",
       "      <th>opstina</th>\n",
       "      <th></th>\n",
       "      <th></th>\n",
       "    </tr>\n",
       "  </thead>\n",
       "  <tbody>\n",
       "    <tr>\n",
       "      <th>Novi Sad</th>\n",
       "      <td>2315.002880</td>\n",
       "      <td>3125</td>\n",
       "    </tr>\n",
       "    <tr>\n",
       "      <th>Voždovac</th>\n",
       "      <td>2598.821384</td>\n",
       "      <td>795</td>\n",
       "    </tr>\n",
       "    <tr>\n",
       "      <th>Novi Beograd</th>\n",
       "      <td>2897.754453</td>\n",
       "      <td>786</td>\n",
       "    </tr>\n",
       "    <tr>\n",
       "      <th>Zvezdara</th>\n",
       "      <td>2465.493386</td>\n",
       "      <td>756</td>\n",
       "    </tr>\n",
       "    <tr>\n",
       "      <th>Niš</th>\n",
       "      <td>1633.903874</td>\n",
       "      <td>697</td>\n",
       "    </tr>\n",
       "    <tr>\n",
       "      <th>Palilula</th>\n",
       "      <td>2166.900312</td>\n",
       "      <td>642</td>\n",
       "    </tr>\n",
       "    <tr>\n",
       "      <th>Vračar</th>\n",
       "      <td>3661.267361</td>\n",
       "      <td>576</td>\n",
       "    </tr>\n",
       "    <tr>\n",
       "      <th>Zemun</th>\n",
       "      <td>2262.304878</td>\n",
       "      <td>574</td>\n",
       "    </tr>\n",
       "    <tr>\n",
       "      <th>Savski Venac</th>\n",
       "      <td>3932.400000</td>\n",
       "      <td>455</td>\n",
       "    </tr>\n",
       "    <tr>\n",
       "      <th>Čukarica</th>\n",
       "      <td>2388.801075</td>\n",
       "      <td>372</td>\n",
       "    </tr>\n",
       "    <tr>\n",
       "      <th>Stari Grad</th>\n",
       "      <td>3768.559420</td>\n",
       "      <td>345</td>\n",
       "    </tr>\n",
       "    <tr>\n",
       "      <th>Čajetina</th>\n",
       "      <td>2030.188679</td>\n",
       "      <td>318</td>\n",
       "    </tr>\n",
       "    <tr>\n",
       "      <th>Vrnjačka Banja</th>\n",
       "      <td>1821.647059</td>\n",
       "      <td>306</td>\n",
       "    </tr>\n",
       "    <tr>\n",
       "      <th>Rakovica</th>\n",
       "      <td>1943.076087</td>\n",
       "      <td>276</td>\n",
       "    </tr>\n",
       "    <tr>\n",
       "      <th>Kragujevac</th>\n",
       "      <td>1462.933054</td>\n",
       "      <td>239</td>\n",
       "    </tr>\n",
       "    <tr>\n",
       "      <th>Brus</th>\n",
       "      <td>2574.317708</td>\n",
       "      <td>192</td>\n",
       "    </tr>\n",
       "    <tr>\n",
       "      <th>Pančevo</th>\n",
       "      <td>1416.756906</td>\n",
       "      <td>181</td>\n",
       "    </tr>\n",
       "    <tr>\n",
       "      <th>Jagodina</th>\n",
       "      <td>1322.965278</td>\n",
       "      <td>144</td>\n",
       "    </tr>\n",
       "    <tr>\n",
       "      <th>Stara Pazova</th>\n",
       "      <td>1335.149123</td>\n",
       "      <td>114</td>\n",
       "    </tr>\n",
       "    <tr>\n",
       "      <th>Subotica</th>\n",
       "      <td>1400.871795</td>\n",
       "      <td>78</td>\n",
       "    </tr>\n",
       "    <tr>\n",
       "      <th>Zrenjanin</th>\n",
       "      <td>1077.920635</td>\n",
       "      <td>63</td>\n",
       "    </tr>\n",
       "    <tr>\n",
       "      <th>Sombor</th>\n",
       "      <td>1062.414634</td>\n",
       "      <td>41</td>\n",
       "    </tr>\n",
       "    <tr>\n",
       "      <th>Kruševac</th>\n",
       "      <td>1156.657895</td>\n",
       "      <td>38</td>\n",
       "    </tr>\n",
       "    <tr>\n",
       "      <th>Grocka</th>\n",
       "      <td>1428.361111</td>\n",
       "      <td>36</td>\n",
       "    </tr>\n",
       "    <tr>\n",
       "      <th>Valjevo</th>\n",
       "      <td>1901.939394</td>\n",
       "      <td>33</td>\n",
       "    </tr>\n",
       "    <tr>\n",
       "      <th>Mladenovac</th>\n",
       "      <td>1535.607143</td>\n",
       "      <td>28</td>\n",
       "    </tr>\n",
       "    <tr>\n",
       "      <th>Leskovac</th>\n",
       "      <td>1097.615385</td>\n",
       "      <td>26</td>\n",
       "    </tr>\n",
       "    <tr>\n",
       "      <th>Surčin</th>\n",
       "      <td>1682.818182</td>\n",
       "      <td>22</td>\n",
       "    </tr>\n",
       "    <tr>\n",
       "      <th>Obrenovac</th>\n",
       "      <td>1530.047619</td>\n",
       "      <td>21</td>\n",
       "    </tr>\n",
       "    <tr>\n",
       "      <th>Čačak</th>\n",
       "      <td>1171.947368</td>\n",
       "      <td>19</td>\n",
       "    </tr>\n",
       "    <tr>\n",
       "      <th>Ruma</th>\n",
       "      <td>1481.684211</td>\n",
       "      <td>19</td>\n",
       "    </tr>\n",
       "    <tr>\n",
       "      <th>Sokobanja</th>\n",
       "      <td>1812.000000</td>\n",
       "      <td>17</td>\n",
       "    </tr>\n",
       "    <tr>\n",
       "      <th>Inđija</th>\n",
       "      <td>1348.562500</td>\n",
       "      <td>16</td>\n",
       "    </tr>\n",
       "    <tr>\n",
       "      <th>Ćuprija</th>\n",
       "      <td>1000.500000</td>\n",
       "      <td>14</td>\n",
       "    </tr>\n",
       "    <tr>\n",
       "      <th>Smederevo</th>\n",
       "      <td>1259.615385</td>\n",
       "      <td>13</td>\n",
       "    </tr>\n",
       "    <tr>\n",
       "      <th>Veliko Gradište</th>\n",
       "      <td>1340.000000</td>\n",
       "      <td>12</td>\n",
       "    </tr>\n",
       "    <tr>\n",
       "      <th>Užice</th>\n",
       "      <td>1137.272727</td>\n",
       "      <td>11</td>\n",
       "    </tr>\n",
       "    <tr>\n",
       "      <th>Barajevo</th>\n",
       "      <td>833.181818</td>\n",
       "      <td>11</td>\n",
       "    </tr>\n",
       "    <tr>\n",
       "      <th>Irig</th>\n",
       "      <td>2192.800000</td>\n",
       "      <td>10</td>\n",
       "    </tr>\n",
       "    <tr>\n",
       "      <th>Loznica</th>\n",
       "      <td>1422.444444</td>\n",
       "      <td>9</td>\n",
       "    </tr>\n",
       "    <tr>\n",
       "      <th>Sremska Mitrovica</th>\n",
       "      <td>1679.222222</td>\n",
       "      <td>9</td>\n",
       "    </tr>\n",
       "    <tr>\n",
       "      <th>Šabac</th>\n",
       "      <td>1493.125000</td>\n",
       "      <td>8</td>\n",
       "    </tr>\n",
       "    <tr>\n",
       "      <th>Temerin</th>\n",
       "      <td>1444.625000</td>\n",
       "      <td>8</td>\n",
       "    </tr>\n",
       "    <tr>\n",
       "      <th>Trstenik</th>\n",
       "      <td>979.125000</td>\n",
       "      <td>8</td>\n",
       "    </tr>\n",
       "    <tr>\n",
       "      <th>Sopot</th>\n",
       "      <td>1767.125000</td>\n",
       "      <td>8</td>\n",
       "    </tr>\n",
       "  </tbody>\n",
       "</table>\n",
       "</div>"
      ]
     },
     "execution_count": 91,
     "metadata": {},
     "output_type": "execute_result"
    }
   ],
   "execution_count": 91
  },
  {
   "metadata": {
    "ExecuteTime": {
     "end_time": "2025-10-17T17:37:33.734551Z",
     "start_time": "2025-10-17T17:37:33.712141Z"
    }
   },
   "cell_type": "code",
   "source": [
    "serbia = gpd.read_file(DATA_DIR / 'shapefiles' / 'gadm41_SRB_2.shp')\n",
    "serbia = serbia.merge(mean_square_price, how='left', left_on='NAME_2', right_on='opstina')\n",
    "\n",
    "temp = serbia[['NAME_2', 'mean', 'count']].dropna().copy()\n",
    "temp.sort_values(by='mean', ascending=False, inplace=True)"
   ],
   "id": "3658d3d3f9837e02",
   "outputs": [],
   "execution_count": 92
  },
  {
   "metadata": {},
   "cell_type": "markdown",
   "source": "Top 10 most expensive municipalities",
   "id": "62962480200b6a06"
  },
  {
   "metadata": {
    "ExecuteTime": {
     "end_time": "2025-10-17T17:37:33.916867Z",
     "start_time": "2025-10-17T17:37:33.903851Z"
    }
   },
   "cell_type": "code",
   "source": "temp.head(10)",
   "id": "a03b3c23036e7a83",
   "outputs": [
    {
     "data": {
      "text/plain": [
       "           NAME_2         mean   count\n",
       "21   Savski Venac  3932.400000   455.0\n",
       "23     Stari Grad  3768.559420   345.0\n",
       "26         Vračar  3661.267361   576.0\n",
       "17   Novi Beograd  2897.754453   786.0\n",
       "25       Voždovac  2598.821384   795.0\n",
       "101          Brus  2574.317708   192.0\n",
       "28       Zvezdara  2465.493386   756.0\n",
       "13       Čukarica  2388.801075   372.0\n",
       "40       Novi Sad  2315.002880  3125.0\n",
       "27          Zemun  2262.304878   574.0"
      ],
      "text/html": [
       "<div>\n",
       "<style scoped>\n",
       "    .dataframe tbody tr th:only-of-type {\n",
       "        vertical-align: middle;\n",
       "    }\n",
       "\n",
       "    .dataframe tbody tr th {\n",
       "        vertical-align: top;\n",
       "    }\n",
       "\n",
       "    .dataframe thead th {\n",
       "        text-align: right;\n",
       "    }\n",
       "</style>\n",
       "<table border=\"1\" class=\"dataframe\">\n",
       "  <thead>\n",
       "    <tr style=\"text-align: right;\">\n",
       "      <th></th>\n",
       "      <th>NAME_2</th>\n",
       "      <th>mean</th>\n",
       "      <th>count</th>\n",
       "    </tr>\n",
       "  </thead>\n",
       "  <tbody>\n",
       "    <tr>\n",
       "      <th>21</th>\n",
       "      <td>Savski Venac</td>\n",
       "      <td>3932.400000</td>\n",
       "      <td>455.0</td>\n",
       "    </tr>\n",
       "    <tr>\n",
       "      <th>23</th>\n",
       "      <td>Stari Grad</td>\n",
       "      <td>3768.559420</td>\n",
       "      <td>345.0</td>\n",
       "    </tr>\n",
       "    <tr>\n",
       "      <th>26</th>\n",
       "      <td>Vračar</td>\n",
       "      <td>3661.267361</td>\n",
       "      <td>576.0</td>\n",
       "    </tr>\n",
       "    <tr>\n",
       "      <th>17</th>\n",
       "      <td>Novi Beograd</td>\n",
       "      <td>2897.754453</td>\n",
       "      <td>786.0</td>\n",
       "    </tr>\n",
       "    <tr>\n",
       "      <th>25</th>\n",
       "      <td>Voždovac</td>\n",
       "      <td>2598.821384</td>\n",
       "      <td>795.0</td>\n",
       "    </tr>\n",
       "    <tr>\n",
       "      <th>101</th>\n",
       "      <td>Brus</td>\n",
       "      <td>2574.317708</td>\n",
       "      <td>192.0</td>\n",
       "    </tr>\n",
       "    <tr>\n",
       "      <th>28</th>\n",
       "      <td>Zvezdara</td>\n",
       "      <td>2465.493386</td>\n",
       "      <td>756.0</td>\n",
       "    </tr>\n",
       "    <tr>\n",
       "      <th>13</th>\n",
       "      <td>Čukarica</td>\n",
       "      <td>2388.801075</td>\n",
       "      <td>372.0</td>\n",
       "    </tr>\n",
       "    <tr>\n",
       "      <th>40</th>\n",
       "      <td>Novi Sad</td>\n",
       "      <td>2315.002880</td>\n",
       "      <td>3125.0</td>\n",
       "    </tr>\n",
       "    <tr>\n",
       "      <th>27</th>\n",
       "      <td>Zemun</td>\n",
       "      <td>2262.304878</td>\n",
       "      <td>574.0</td>\n",
       "    </tr>\n",
       "  </tbody>\n",
       "</table>\n",
       "</div>"
      ]
     },
     "execution_count": 93,
     "metadata": {},
     "output_type": "execute_result"
    }
   ],
   "execution_count": 93
  },
  {
   "metadata": {},
   "cell_type": "markdown",
   "source": [
    "Top 10 cheapest municipalities\n",
    "\n",
    "**NOTE**: there is no data for numerous municipalities that are mostly rural regions. Prices in municipalities that are mostly rural are usually cheaper on average compared to data showed below."
   ],
   "id": "eb98feab97c2551c"
  },
  {
   "metadata": {
    "ExecuteTime": {
     "end_time": "2025-10-17T17:37:34.131570Z",
     "start_time": "2025-10-17T17:37:34.121008Z"
    }
   },
   "cell_type": "code",
   "source": "temp.tail(10)",
   "id": "88de77c6b4b3273a",
   "outputs": [
    {
     "data": {
      "text/plain": [
       "        NAME_2         mean  count\n",
       "91   Smederevo  1259.615385   13.0\n",
       "69       Čačak  1171.947368   19.0\n",
       "103   Kruševac  1156.657895   38.0\n",
       "160      Užice  1137.272727   11.0\n",
       "32    Leskovac  1097.615385   26.0\n",
       "124  Zrenjanin  1077.920635   63.0\n",
       "150     Sombor  1062.414634   41.0\n",
       "94     Ćuprija  1000.500000   14.0\n",
       "104   Trstenik   979.125000    8.0\n",
       "12    Barajevo   833.181818   11.0"
      ],
      "text/html": [
       "<div>\n",
       "<style scoped>\n",
       "    .dataframe tbody tr th:only-of-type {\n",
       "        vertical-align: middle;\n",
       "    }\n",
       "\n",
       "    .dataframe tbody tr th {\n",
       "        vertical-align: top;\n",
       "    }\n",
       "\n",
       "    .dataframe thead th {\n",
       "        text-align: right;\n",
       "    }\n",
       "</style>\n",
       "<table border=\"1\" class=\"dataframe\">\n",
       "  <thead>\n",
       "    <tr style=\"text-align: right;\">\n",
       "      <th></th>\n",
       "      <th>NAME_2</th>\n",
       "      <th>mean</th>\n",
       "      <th>count</th>\n",
       "    </tr>\n",
       "  </thead>\n",
       "  <tbody>\n",
       "    <tr>\n",
       "      <th>91</th>\n",
       "      <td>Smederevo</td>\n",
       "      <td>1259.615385</td>\n",
       "      <td>13.0</td>\n",
       "    </tr>\n",
       "    <tr>\n",
       "      <th>69</th>\n",
       "      <td>Čačak</td>\n",
       "      <td>1171.947368</td>\n",
       "      <td>19.0</td>\n",
       "    </tr>\n",
       "    <tr>\n",
       "      <th>103</th>\n",
       "      <td>Kruševac</td>\n",
       "      <td>1156.657895</td>\n",
       "      <td>38.0</td>\n",
       "    </tr>\n",
       "    <tr>\n",
       "      <th>160</th>\n",
       "      <td>Užice</td>\n",
       "      <td>1137.272727</td>\n",
       "      <td>11.0</td>\n",
       "    </tr>\n",
       "    <tr>\n",
       "      <th>32</th>\n",
       "      <td>Leskovac</td>\n",
       "      <td>1097.615385</td>\n",
       "      <td>26.0</td>\n",
       "    </tr>\n",
       "    <tr>\n",
       "      <th>124</th>\n",
       "      <td>Zrenjanin</td>\n",
       "      <td>1077.920635</td>\n",
       "      <td>63.0</td>\n",
       "    </tr>\n",
       "    <tr>\n",
       "      <th>150</th>\n",
       "      <td>Sombor</td>\n",
       "      <td>1062.414634</td>\n",
       "      <td>41.0</td>\n",
       "    </tr>\n",
       "    <tr>\n",
       "      <th>94</th>\n",
       "      <td>Ćuprija</td>\n",
       "      <td>1000.500000</td>\n",
       "      <td>14.0</td>\n",
       "    </tr>\n",
       "    <tr>\n",
       "      <th>104</th>\n",
       "      <td>Trstenik</td>\n",
       "      <td>979.125000</td>\n",
       "      <td>8.0</td>\n",
       "    </tr>\n",
       "    <tr>\n",
       "      <th>12</th>\n",
       "      <td>Barajevo</td>\n",
       "      <td>833.181818</td>\n",
       "      <td>11.0</td>\n",
       "    </tr>\n",
       "  </tbody>\n",
       "</table>\n",
       "</div>"
      ]
     },
     "execution_count": 94,
     "metadata": {},
     "output_type": "execute_result"
    }
   ],
   "execution_count": 94
  },
  {
   "metadata": {
    "ExecuteTime": {
     "end_time": "2025-10-17T17:37:34.914913Z",
     "start_time": "2025-10-17T17:37:34.431563Z"
    }
   },
   "cell_type": "code",
   "source": [
    "\n",
    "fig, ax = plt.subplots(figsize=(10, 10))\n",
    "\n",
    "serbia.plot(ax=ax, column='mean', cmap='OrRd', legend=True, linewidth=1, missing_kwds={\n",
    "    'color': 'lightgrey',\n",
    "    'label': 'missing values'\n",
    "})\n",
    "\n",
    "plt.show()"
   ],
   "id": "d6da41a2101021bb",
   "outputs": [
    {
     "data": {
      "text/plain": [
       "<Figure size 1000x1000 with 2 Axes>"
      ],
      "image/png": "[encoded data removed]"
     },
     "metadata": {},
     "output_type": "display_data"
    }
   ],
   "execution_count": 95
  },
  {
   "metadata": {},
   "cell_type": "markdown",
   "source": [
    "Looking at this map, we can conclude the following:\n",
    "* Belgrade city center is within most expensive regions in Serbia\n",
    "* Other expensive regions: Novi Sad (including Petrovaradin and Sremski Karlovci microlocations), Brus (Kopaonik mountain has very expensive apartments, and they are mosty part of Brus), Čajetina (mainly Zlatibor mountain), Valjevo\n",
    "* Cheap regions: Trstenik, Ćuprija, Sombor, Zrenjanin, Leskovac, Barajevo (Belgrade municipality)"
   ],
   "id": "1b10273d6a699a63"
  },
  {
   "metadata": {},
   "cell_type": "markdown",
   "source": "## Belgrade apartment sale analysis",
   "id": "123a6c7ffd056c6a"
  },
  {
   "metadata": {
    "ExecuteTime": {
     "end_time": "2025-10-17T17:37:35.248716Z",
     "start_time": "2025-10-17T17:37:35.232111Z"
    }
   },
   "cell_type": "code",
   "source": [
    "beograd = serbia[serbia['NAME_1'] == 'Grad Beograd']\n",
    "beograd[['NAME_2', 'mean', 'count']]"
   ],
   "id": "acad16bae60eb9b8",
   "outputs": [
    {
     "data": {
      "text/plain": [
       "          NAME_2         mean  count\n",
       "12      Barajevo   833.181818   11.0\n",
       "13      Čukarica  2388.801075  372.0\n",
       "14        Grocka  1428.361111   36.0\n",
       "15     Lazarevac          NaN    NaN\n",
       "16    Mladenovac  1535.607143   28.0\n",
       "17  Novi Beograd  2897.754453  786.0\n",
       "18     Obrenovac  1530.047619   21.0\n",
       "19      Palilula  2166.900312  642.0\n",
       "20      Rakovica  1943.076087  276.0\n",
       "21  Savski Venac  3932.400000  455.0\n",
       "22         Sopot  1767.125000    8.0\n",
       "23    Stari Grad  3768.559420  345.0\n",
       "24        Surčin  1682.818182   22.0\n",
       "25      Voždovac  2598.821384  795.0\n",
       "26        Vračar  3661.267361  576.0\n",
       "27         Zemun  2262.304878  574.0\n",
       "28      Zvezdara  2465.493386  756.0"
      ],
      "text/html": [
       "<div>\n",
       "<style scoped>\n",
       "    .dataframe tbody tr th:only-of-type {\n",
       "        vertical-align: middle;\n",
       "    }\n",
       "\n",
       "    .dataframe tbody tr th {\n",
       "        vertical-align: top;\n",
       "    }\n",
       "\n",
       "    .dataframe thead th {\n",
       "        text-align: right;\n",
       "    }\n",
       "</style>\n",
       "<table border=\"1\" class=\"dataframe\">\n",
       "  <thead>\n",
       "    <tr style=\"text-align: right;\">\n",
       "      <th></th>\n",
       "      <th>NAME_2</th>\n",
       "      <th>mean</th>\n",
       "      <th>count</th>\n",
       "    </tr>\n",
       "  </thead>\n",
       "  <tbody>\n",
       "    <tr>\n",
       "      <th>12</th>\n",
       "      <td>Barajevo</td>\n",
       "      <td>833.181818</td>\n",
       "      <td>11.0</td>\n",
       "    </tr>\n",
       "    <tr>\n",
       "      <th>13</th>\n",
       "      <td>Čukarica</td>\n",
       "      <td>2388.801075</td>\n",
       "      <td>372.0</td>\n",
       "    </tr>\n",
       "    <tr>\n",
       "      <th>14</th>\n",
       "      <td>Grocka</td>\n",
       "      <td>1428.361111</td>\n",
       "      <td>36.0</td>\n",
       "    </tr>\n",
       "    <tr>\n",
       "      <th>15</th>\n",
       "      <td>Lazarevac</td>\n",
       "      <td>NaN</td>\n",
       "      <td>NaN</td>\n",
       "    </tr>\n",
       "    <tr>\n",
       "      <th>16</th>\n",
       "      <td>Mladenovac</td>\n",
       "      <td>1535.607143</td>\n",
       "      <td>28.0</td>\n",
       "    </tr>\n",
       "    <tr>\n",
       "      <th>17</th>\n",
       "      <td>Novi Beograd</td>\n",
       "      <td>2897.754453</td>\n",
       "      <td>786.0</td>\n",
       "    </tr>\n",
       "    <tr>\n",
       "      <th>18</th>\n",
       "      <td>Obrenovac</td>\n",
       "      <td>1530.047619</td>\n",
       "      <td>21.0</td>\n",
       "    </tr>\n",
       "    <tr>\n",
       "      <th>19</th>\n",
       "      <td>Palilula</td>\n",
       "      <td>2166.900312</td>\n",
       "      <td>642.0</td>\n",
       "    </tr>\n",
       "    <tr>\n",
       "      <th>20</th>\n",
       "      <td>Rakovica</td>\n",
       "      <td>1943.076087</td>\n",
       "      <td>276.0</td>\n",
       "    </tr>\n",
       "    <tr>\n",
       "      <th>21</th>\n",
       "      <td>Savski Venac</td>\n",
       "      <td>3932.400000</td>\n",
       "      <td>455.0</td>\n",
       "    </tr>\n",
       "    <tr>\n",
       "      <th>22</th>\n",
       "      <td>Sopot</td>\n",
       "      <td>1767.125000</td>\n",
       "      <td>8.0</td>\n",
       "    </tr>\n",
       "    <tr>\n",
       "      <th>23</th>\n",
       "      <td>Stari Grad</td>\n",
       "      <td>3768.559420</td>\n",
       "      <td>345.0</td>\n",
       "    </tr>\n",
       "    <tr>\n",
       "      <th>24</th>\n",
       "      <td>Surčin</td>\n",
       "      <td>1682.818182</td>\n",
       "      <td>22.0</td>\n",
       "    </tr>\n",
       "    <tr>\n",
       "      <th>25</th>\n",
       "      <td>Voždovac</td>\n",
       "      <td>2598.821384</td>\n",
       "      <td>795.0</td>\n",
       "    </tr>\n",
       "    <tr>\n",
       "      <th>26</th>\n",
       "      <td>Vračar</td>\n",
       "      <td>3661.267361</td>\n",
       "      <td>576.0</td>\n",
       "    </tr>\n",
       "    <tr>\n",
       "      <th>27</th>\n",
       "      <td>Zemun</td>\n",
       "      <td>2262.304878</td>\n",
       "      <td>574.0</td>\n",
       "    </tr>\n",
       "    <tr>\n",
       "      <th>28</th>\n",
       "      <td>Zvezdara</td>\n",
       "      <td>2465.493386</td>\n",
       "      <td>756.0</td>\n",
       "    </tr>\n",
       "  </tbody>\n",
       "</table>\n",
       "</div>"
      ]
     },
     "execution_count": 96,
     "metadata": {},
     "output_type": "execute_result"
    }
   ],
   "execution_count": 96
  },
  {
   "metadata": {
    "ExecuteTime": {
     "end_time": "2025-10-17T17:37:35.852184Z",
     "start_time": "2025-10-17T17:37:35.516959Z"
    }
   },
   "cell_type": "code",
   "source": [
    "fig, ax = plt.subplots(figsize=(8,8))\n",
    "\n",
    "beograd.plot(ax=ax, column='mean', cmap='OrRd', legend=True, edgecolor='white', missing_kwds={\n",
    "    'color': 'lightgrey',\n",
    "    'label': 'missing values'\n",
    "})\n",
    "\n",
    "for idx, row in beograd.iterrows():\n",
    "    if row['geometry'] is None:\n",
    "        continue\n",
    "    x, y = row['geometry'].centroid.x, row['geometry'].centroid.y\n",
    "    ax.text(\n",
    "        x, y,\n",
    "        row['NAME_2'],\n",
    "        fontsize=7,\n",
    "        ha='center',\n",
    "        va='center',\n",
    "        color='black'\n",
    "    )\n",
    "# add names on municipaly\n",
    "plt.show()"
   ],
   "id": "6169ec4378dcecf6",
   "outputs": [
    {
     "data": {
      "text/plain": [
       "<Figure size 800x800 with 2 Axes>"
      ],
      "image/png": "[encoded data removed]"
     },
     "metadata": {},
     "output_type": "display_data"
    }
   ],
   "execution_count": 97
  },
  {
   "metadata": {},
   "cell_type": "markdown",
   "source": [
    "## Plotting data on map\n",
    "\n",
    "As mentioned before, this dataset does not include coordinates of locations, but we need them for next step.\n",
    "\n",
    "In this case, we will roughly estimate coordinates using geopy. The idea is to extract relevant information from dataset (in this case data from city and location) and use geopy to calculate coordinates. To do so, we have to create location string that best suites geopy geocoder while trying to keep as much location information as possible."
   ],
   "id": "a392422daccf1066"
  },
  {
   "metadata": {
    "ExecuteTime": {
     "end_time": "2025-10-17T17:37:36.101023Z",
     "start_time": "2025-10-17T17:37:36.038343Z"
    }
   },
   "cell_type": "code",
   "source": [
    "geolocator = Nominatim(user_agent='myapp')\n",
    "bad_tokens = ['gradska lokacija', 'okolno mesto', 'planina', 'centar', 'gradske lokacije']\n",
    "\n",
    "import time\n",
    "from unidecode import unidecode\n",
    "import re\n",
    "from geopy.exc import GeocoderTimedOut, GeocoderServiceError\n",
    "\n",
    "MAX_ATTEMPTS = 1 # max number of attempts per location\n",
    "SLEEP_BETWEEN = 0 # wait time between attempts\n",
    "STALL_TIMEOUT = 10 # max wait time in seconds\n",
    "\n",
    "# clean location string (remove things that could make geocoding harder)\n",
    "def clean_location(loc):\n",
    "    parts = [p.strip().lower() for p in loc.split(',') if p.strip() != '']\n",
    "    new = []\n",
    "    for part in parts:\n",
    "        if part in bad_tokens:\n",
    "            continue\n",
    "        temp = part.replace('opština', '').strip()\n",
    "        temp = temp.replace('centar', '').strip()\n",
    "        temp = re.sub(r'\\(.*\\)', '', temp)\n",
    "        temp = temp.split('-')[0].strip()\n",
    "        temp = unidecode(temp)\n",
    "        if temp.title() not in new:\n",
    "            new.append(temp.title())\n",
    "    return ', '.join(new)\n",
    "\n",
    "# using row from dataset, calculate latitude and longitude by prompitng geopy api\n",
    "def find_coordinates(row):\n",
    "    def try_geocode(q):\n",
    "        for attempt in range(1, MAX_ATTEMPTS + 1):\n",
    "            start = time.time()\n",
    "            try:\n",
    "                loc = geolocator.geocode(q, timeout=STALL_TIMEOUT)\n",
    "                if loc:\n",
    "                    return loc.latitude, loc.longitude\n",
    "            except (GeocoderTimedOut, GeocoderServiceError) as e:\n",
    "                print(f\"⏱️ timeout/geoservice error: {e} attempt: {attempt})\")\n",
    "            except Exception as e:\n",
    "                print(f\"ERROR: {e} attempt: {attempt})\")\n",
    "            if time.time() - start > STALL_TIMEOUT * 2:\n",
    "                print(\"Time limit exceeded, return None\")\n",
    "                return None\n",
    "            time.sleep(SLEEP_BETWEEN)\n",
    "        return None\n",
    "    # =================================================================\n",
    "    search_str = ', '.join(['Srbija', row['city'], row['location']])\n",
    "    search_str = clean_location(search_str)\n",
    "    print(f\"Searching:\", search_str)\n",
    "\n",
    "    # if string is for example: Srbija, Novi Sad it is not precise enough\n",
    "    if len(search_str.split(',')) <= 2:\n",
    "        print(\"Not found ❌\")\n",
    "        return None\n",
    "    try:\n",
    "        loc = try_geocode(search_str)\n",
    "        if loc:\n",
    "            print(\"Found ✅\")\n",
    "            return loc\n",
    "\n",
    "        # try without last part\n",
    "        without_last = [p.strip() for p in search_str.split(',') if p.strip() != '']\n",
    "        without_last = without_last[:-1]\n",
    "        without_last_str = ', '.join(without_last)\n",
    "        print(\"Try without last:\", without_last_str)\n",
    "        if len(without_last_str.split(',')) <= 2:\n",
    "            print(\"Not found ❌\")\n",
    "            return None\n",
    "        loc = try_geocode(without_last)\n",
    "        if loc:\n",
    "            print(\"Found ✅\")\n",
    "            return loc\n",
    "        print(\"Not found ❌\")\n",
    "    except Exception as e:\n",
    "        print(\"ERROR:\", e)\n",
    "    return None"
   ],
   "id": "3d4e9bd8940c7f8b",
   "outputs": [],
   "execution_count": 98
  },
  {
   "metadata": {},
   "cell_type": "markdown",
   "source": [
    "The following code will create new dataset that has 2 additional columns - latitude and longitude (coordinates) and has rows in which city is \"Beograd\".\n",
    "\n",
    "**NOTE:** depending on sample size this process can take long time since api only allows 1 request per second. For 800 locations it might take around 15min. For all belgrade locations (5000+) it might take more than hour. You can use precomputed datasets bg_coords.csv and ns_coords.csv, or adjust sample size and run this cell yourself."
   ],
   "id": "a800e45b936b5b42"
  },
  {
   "metadata": {
    "ExecuteTime": {
     "end_time": "2025-10-17T17:37:36.258625Z",
     "start_time": "2025-10-17T17:37:36.253943Z"
    }
   },
   "cell_type": "code",
   "source": [
    "def get_coords(row):\n",
    "    coords = find_coordinates(row)\n",
    "    return pd.Series(coords if coords is not None else [None, None])"
   ],
   "id": "1692203b42facf76",
   "outputs": [],
   "execution_count": 99
  },
  {
   "metadata": {},
   "cell_type": "markdown",
   "source": "Calculate coordinates for Belgrade",
   "id": "65ce09c9cd772274"
  },
  {
   "metadata": {
    "ExecuteTime": {
     "end_time": "2025-10-17T17:37:36.395376Z",
     "start_time": "2025-10-17T17:37:36.387905Z"
    }
   },
   "cell_type": "code",
   "source": [
    "CALC_BG_COORDS = False # set true if you want to run\n",
    "if CALC_BG_COORDS:\n",
    "    bg_coords = data.loc[data['city'] == 'Beograd'].sample(800).copy()\n",
    "    bg_coords[['latitude', 'longitude']] = bg_coords.apply(get_coords,axis=1)\n",
    "    bg_coords.dropna(inplace=True)\n",
    "    bg_coords = bg_coords.drop_duplicates(subset=['latitude', 'longitude'])\n",
    "    bg_coords = bg_coords.reset_index(drop=True)\n",
    "    bg_coords.to_csv(DATA_DIR / 'bg_coords.csv', index=False)"
   ],
   "id": "73c38218f7ac1057",
   "outputs": [],
   "execution_count": 100
  },
  {
   "metadata": {},
   "cell_type": "markdown",
   "source": [
    "### Creating marker map using computed coordinates\n",
    "\n",
    "Folium library will be used in this example"
   ],
   "id": "d80e5193fb74dc9c"
  },
  {
   "metadata": {
    "ExecuteTime": {
     "end_time": "2025-10-17T17:37:36.828116Z",
     "start_time": "2025-10-17T17:37:36.527511Z"
    }
   },
   "cell_type": "code",
   "source": [
    "import folium\n",
    "import matplotlib.colors as colors"
   ],
   "id": "c0d3a7b81036f637",
   "outputs": [],
   "execution_count": 101
  },
  {
   "metadata": {},
   "cell_type": "markdown",
   "source": "#### Belgrade marker map and heatmap",
   "id": "d2a53a24ae05b087"
  },
  {
   "metadata": {},
   "cell_type": "markdown",
   "source": "Click on individual circles for more info",
   "id": "18bbbae8216d99c1"
  },
  {
   "metadata": {
    "ExecuteTime": {
     "end_time": "2025-10-17T17:37:37.619958Z",
     "start_time": "2025-10-17T17:37:36.890745Z"
    }
   },
   "cell_type": "code",
   "source": [
    "\n",
    "bg_coords_path = DATA_DIR / 'bg_coords.csv'\n",
    "if not bg_coords_path.exists():\n",
    "    stderr.write(f'{bg_coords_path} does not exist. Run cell above to create file\\n')\n",
    "\n",
    "bg_coords = pd.read_csv(DATA_DIR / 'bg_coords.csv')\n",
    "min_price = bg_coords['square_price'].min()\n",
    "max_price = bg_coords['square_price'].max()\n",
    "norm = colors.Normalize(vmin=min_price, vmax=max_price)\n",
    "cmap = plt.get_cmap('rainbow') # magma, twilight, YlOrRd, rainbow\n",
    "\n",
    "# other possible tile styles: cartodbdark_matter, openstreetmap, mapquestopen\n",
    "m = folium.Map(location=(44.75, 20.48), tiles=\"Cartodb Positron\", zoom_start=11)\n",
    "\n",
    "for i in range(bg_coords.shape[0]):\n",
    "    row = bg_coords.iloc[i]\n",
    "    coords = (row['latitude'], row['longitude'])\n",
    "    price = row['square_price']\n",
    "\n",
    "    if any(pd.isna(c) for c in coords):\n",
    "        continue\n",
    "\n",
    "    color = colors.to_hex(cmap(norm(price)))\n",
    "\n",
    "    folium.Circle(\n",
    "        location=coords,\n",
    "        radius=150,\n",
    "        color=color,\n",
    "        fill=True,\n",
    "        fill_color=color,\n",
    "        fill_opacity=0.7,\n",
    "        popup=f\"Cena: {price:.0f} €/m², Kvadratura {row['area']}m²\",\n",
    "    ).add_to(m)\n",
    "m.save(DATA_DIR / 'maps' / 'belgrade_map_1.html')"
   ],
   "id": "5d187acb7f936d76",
   "outputs": [],
   "execution_count": 102
  },
  {
   "metadata": {},
   "cell_type": "markdown",
   "source": "If you are looking at this from github map will not display. Open in here: https://ttcpavle.github.io/Apartment-sale-data-analysis/data/maps/belgrade_map_1.html",
   "id": "35d7a95af265cabf"
  },
  {
   "metadata": {
    "ExecuteTime": {
     "end_time": "2025-10-17T17:37:37.690851Z",
     "start_time": "2025-10-17T17:37:37.682308Z"
    }
   },
   "cell_type": "code",
   "source": [
    "from IPython.display import IFrame\n",
    "\n",
    "IFrame(src='./data/maps/belgrade_map_1.html', width=800, height=500)"
   ],
   "id": "95b7bf19593ebebe",
   "outputs": [
    {
     "data": {
      "text/plain": [
       "<IPython.lib.display.IFrame at 0x2557e3d2570>"
      ],
      "text/html": [
       "\n",
       "        <iframe\n",
       "            width=\"800\"\n",
       "            height=\"500\"\n",
       "            src=\"./data/maps/belgrade_map_1.html\"\n",
       "            frameborder=\"0\"\n",
       "            allowfullscreen\n",
       "            \n",
       "        ></iframe>\n",
       "        "
      ]
     },
     "execution_count": 103,
     "metadata": {},
     "output_type": "execute_result"
    }
   ],
   "execution_count": 103
  },
  {
   "metadata": {},
   "cell_type": "markdown",
   "source": "To spice things up, we can create a heatmap like this",
   "id": "3ab184ff78b61018"
  },
  {
   "metadata": {
    "ExecuteTime": {
     "end_time": "2025-10-17T17:37:38.061020Z",
     "start_time": "2025-10-17T17:37:37.834048Z"
    }
   },
   "cell_type": "code",
   "source": [
    "from folium.plugins import HeatMap\n",
    "\n",
    "hm_data = bg_coords.loc[:,['latitude', 'longitude', 'square_price']]\n",
    "m = folium.Map(location=(44.75, 20.48), tiles=\"Cartodb Positron\", zoom_start=11)\n",
    "HeatMap(hm_data, radius=20, blur=25).add_to(m)\n",
    "m.save(DATA_DIR / 'maps' / 'belgrade_map_2.html')"
   ],
   "id": "47ae08a9b981bb0e",
   "outputs": [],
   "execution_count": 104
  },
  {
   "metadata": {
    "ExecuteTime": {
     "end_time": "2025-10-17T17:37:38.140370Z",
     "start_time": "2025-10-17T17:37:38.124327Z"
    }
   },
   "cell_type": "code",
   "source": "IFrame(src='./data/maps/belgrade_map_2.html', width=800, height=500)",
   "id": "dd00d2022d8ca0ed",
   "outputs": [
    {
     "data": {
      "text/plain": [
       "<IPython.lib.display.IFrame at 0x2557e3d12e0>"
      ],
      "text/html": [
       "\n",
       "        <iframe\n",
       "            width=\"800\"\n",
       "            height=\"500\"\n",
       "            src=\"./data/maps/belgrade_map_2.html\"\n",
       "            frameborder=\"0\"\n",
       "            allowfullscreen\n",
       "            \n",
       "        ></iframe>\n",
       "        "
      ]
     },
     "execution_count": 105,
     "metadata": {},
     "output_type": "execute_result"
    }
   ],
   "execution_count": 105
  },
  {
   "metadata": {},
   "cell_type": "markdown",
   "source": "Or open in here: https://ttcpavle.github.io/Apartment-sale-data-analysis/data/maps/belgrade_map_2.html",
   "id": "3bcdeac6fd973d4e"
  },
  {
   "metadata": {},
   "cell_type": "markdown",
   "source": "#### Novi Sad marker map",
   "id": "72c15f2bb8b693bc"
  },
  {
   "metadata": {},
   "cell_type": "markdown",
   "source": "Same procedure as with Belgrade",
   "id": "aacd3d74b4b8384f"
  },
  {
   "metadata": {
    "ExecuteTime": {
     "end_time": "2025-10-17T17:37:38.308187Z",
     "start_time": "2025-10-17T17:37:38.301188Z"
    }
   },
   "cell_type": "code",
   "source": [
    "CALC_NS_COORDS = False\n",
    "if CALC_NS_COORDS:\n",
    "    ns_coords = data.loc[data['city'] == 'Novi Sad'].sample(1000).copy()\n",
    "    ns_coords[['latitude', 'longitude']] = ns_coords.apply(get_coords,axis=1)\n",
    "    ns_coords.dropna(inplace=True)\n",
    "    ns_coords = ns_coords.drop_duplicates(subset=['latitude', 'longitude'])\n",
    "    ns_coords = ns_coords.reset_index(drop=True)\n",
    "    ns_coords.to_csv(DATA_DIR / 'ns_coords.csv', index=False)"
   ],
   "id": "66018cd0ce133a89",
   "outputs": [],
   "execution_count": 106
  },
  {
   "metadata": {
    "ExecuteTime": {
     "end_time": "2025-10-17T17:37:38.601256Z",
     "start_time": "2025-10-17T17:37:38.416325Z"
    }
   },
   "cell_type": "code",
   "source": [
    "ns_coords_path = DATA_DIR / 'ns_coords.csv'\n",
    "if not ns_coords_path.exists():\n",
    "    stderr.write(f'{ns_coords_path} does not exist. Run cell above to create file\\n')\n",
    "\n",
    "ns_coords = pd.read_csv(DATA_DIR / 'ns_coords.csv')\n",
    "min_price = ns_coords['square_price'].min()\n",
    "max_price = ns_coords['square_price'].max()\n",
    "norm = colors.Normalize(vmin=min_price, vmax=max_price)\n",
    "cmap = plt.get_cmap('rainbow') # magma, twilight, YlOrRd, rainbow\n",
    "\n",
    "m2 = folium.Map(location=(45.25, 19.84), tiles=\"Cartodb Positron\", zoom_start=12)\n",
    "\n",
    "for i in range(ns_coords.shape[0]):\n",
    "    row = ns_coords.iloc[i]\n",
    "    coords = (row['latitude'], row['longitude'])\n",
    "    price = row['square_price']\n",
    "\n",
    "    if any(pd.isna(c) for c in coords):\n",
    "        continue\n",
    "\n",
    "    color = colors.to_hex(cmap(norm(price)))\n",
    "\n",
    "    folium.Circle(\n",
    "        location=coords,\n",
    "        radius=150,\n",
    "        color=color,\n",
    "        fill=True,\n",
    "        fill_color=color,\n",
    "        fill_opacity=0.7,\n",
    "        popup=f\"Cena: {price:.0f} €/m², Kvadratura {row['area']}m²\",\n",
    "    ).add_to(m2)\n",
    "m2.save(DATA_DIR / 'maps' /'novi_sad_map.html')"
   ],
   "id": "5a9e70a14827f222",
   "outputs": [],
   "execution_count": 107
  },
  {
   "metadata": {
    "ExecuteTime": {
     "end_time": "2025-10-17T17:37:38.684593Z",
     "start_time": "2025-10-17T17:37:38.675636Z"
    }
   },
   "cell_type": "code",
   "source": "IFrame(src='./data/maps/novi_sad_map.html', width=800, height=500)",
   "id": "adf2feb64eaa0d59",
   "outputs": [
    {
     "data": {
      "text/plain": [
       "<IPython.lib.display.IFrame at 0x25504749400>"
      ],
      "text/html": [
       "\n",
       "        <iframe\n",
       "            width=\"800\"\n",
       "            height=\"500\"\n",
       "            src=\"./data/maps/novi_sad_map.html\"\n",
       "            frameborder=\"0\"\n",
       "            allowfullscreen\n",
       "            \n",
       "        ></iframe>\n",
       "        "
      ]
     },
     "execution_count": 108,
     "metadata": {},
     "output_type": "execute_result"
    }
   ],
   "execution_count": 108
  },
  {
   "metadata": {},
   "cell_type": "markdown",
   "source": "Or open in here: https://ttcpavle.github.io/Apartment-sale-data-analysis/data/maps/novi_sad_map.html",
   "id": "f2e0e34c8e0f0799"
  },
  {
   "metadata": {},
   "cell_type": "markdown",
   "source": "This technique is not accurate and practical. When we used sample size 1000, we only got around 100 different locations in Novi Sad. As said before, main problem is in data accuracy with geopy geocoding.",
   "id": "9160d2a6ab3b388c"
  },
  {
   "metadata": {},
   "cell_type": "markdown",
   "source": "## Apartment types analysis",
   "id": "3aa4e17c712900c9"
  },
  {
   "metadata": {
    "ExecuteTime": {
     "end_time": "2025-10-17T17:37:38.817034Z",
     "start_time": "2025-10-17T17:37:38.800900Z"
    }
   },
   "cell_type": "code",
   "source": [
    "luxury_aparmtnets = data.loc[data['title'].str.contains('lux')]\n",
    "lux_avg_sp = luxury_aparmtnets['square_price'].mean()\n",
    "lux_avg_area = luxury_aparmtnets['area'].mean()"
   ],
   "id": "c8545e61ed83d71e",
   "outputs": [],
   "execution_count": 109
  },
  {
   "metadata": {
    "ExecuteTime": {
     "end_time": "2025-10-17T17:37:38.970871Z",
     "start_time": "2025-10-17T17:37:38.952534Z"
    }
   },
   "cell_type": "code",
   "source": [
    "novogradnja = data.loc[data['title'].str.contains('novogradnja')]\n",
    "nvg_avg_sp = novogradnja['square_price'].mean()\n",
    "nvg_avg_area = novogradnja['area'].mean()"
   ],
   "id": "c4ee648f4040a741",
   "outputs": [],
   "execution_count": 110
  },
  {
   "metadata": {
    "ExecuteTime": {
     "end_time": "2025-10-17T17:37:39.088994Z",
     "start_time": "2025-10-17T17:37:39.076590Z"
    }
   },
   "cell_type": "code",
   "source": [
    "renovated = data.loc[data['title'].str.contains('renoviran')]\n",
    "rnv_avg_sp = renovated['square_price'].mean()\n",
    "rnv_avg_area = renovated['area'].mean()"
   ],
   "id": "dc5ad1848f310655",
   "outputs": [],
   "execution_count": 111
  },
  {
   "metadata": {
    "ExecuteTime": {
     "end_time": "2025-10-17T17:37:39.221079Z",
     "start_time": "2025-10-17T17:37:39.216517Z"
    }
   },
   "cell_type": "code",
   "source": [
    "x = ['luxury', 'novogradnja', 'renovated']\n",
    "y1 = [lux_avg_sp, nvg_avg_sp, rnv_avg_sp]\n",
    "y2 = [lux_avg_area, nvg_avg_area, rnv_avg_area]"
   ],
   "id": "160ca7898553d37b",
   "outputs": [],
   "execution_count": 112
  },
  {
   "metadata": {
    "ExecuteTime": {
     "end_time": "2025-10-17T17:37:39.464310Z",
     "start_time": "2025-10-17T17:37:39.311768Z"
    }
   },
   "cell_type": "code",
   "source": [
    "fig, ax = plt.subplots()\n",
    "sb.barplot(x=x, y=y1, color='crimson', ax=ax)\n",
    "ax.set_ylim(2000, 3500)\n",
    "ax.set_title('Average square price per apartment type')\n",
    "ax.set_ylabel('€/m²')\n",
    "plt.show()"
   ],
   "id": "bb1deda7e24e5c38",
   "outputs": [
    {
     "data": {
      "text/plain": [
       "<Figure size 640x480 with 1 Axes>"
      ],
      "image/png": "[encoded data removed]"
     },
     "metadata": {},
     "output_type": "display_data"
    }
   ],
   "execution_count": 113
  },
  {
   "metadata": {
    "ExecuteTime": {
     "end_time": "2025-10-17T17:37:39.679677Z",
     "start_time": "2025-10-17T17:37:39.536550Z"
    }
   },
   "cell_type": "code",
   "source": [
    "fig, ax = plt.subplots()\n",
    "sb.barplot(x=x, y=y2, color='lime', ax=ax)\n",
    "ax.set_ylim(50, 90)\n",
    "ax.set_title('Average area per apartment type')\n",
    "ax.set_ylabel('area')\n",
    "plt.show()"
   ],
   "id": "50f33f455d4f5488",
   "outputs": [
    {
     "data": {
      "text/plain": [
       "<Figure size 640x480 with 1 Axes>"
      ],
      "image/png": "[encoded data removed]"
     },
     "metadata": {},
     "output_type": "display_data"
    }
   ],
   "execution_count": 114
  },
  {
   "metadata": {},
   "cell_type": "markdown",
   "source": [
    "Here is what we can conclude:\n",
    "* luxury apartments have average price close to 3000 euros and average area close to 80 m2\n",
    "* novogradnja apartments have average price close to 2400 euros and average area close to 70 m2\n",
    "* renovated apartments have average price at around 2500 euros and average area around 65 m2\n",
    "\n",
    "So, renovated apartments are on average more expensive than novogradnja. Luxury apartments are very sparse by area and are more expensive than novogradnja."
   ],
   "id": "858a4caf5edd1b0"
  },
  {
   "metadata": {},
   "cell_type": "markdown",
   "source": "## Belgrade waterfront",
   "id": "dd4e5e639e5a9ed3"
  },
  {
   "metadata": {
    "ExecuteTime": {
     "end_time": "2025-10-17T17:37:39.790550Z",
     "start_time": "2025-10-17T17:37:39.763451Z"
    }
   },
   "cell_type": "code",
   "source": [
    "bw = data.loc[data['title'].str.contains('bw|beograd na vodi', case=False)].copy()\n",
    "bw"
   ],
   "id": "6780b4cb0eba918e",
   "outputs": [
    {
     "data": {
      "text/plain": [
       "       area     city floor                                           location  \\\n",
       "56      885  Beograd     p   Opština Savski venac, Beograd na vodi, Herceg...   \n",
       "342      92  Beograd    16              Opština Savski venac, Beograd na vodi   \n",
       "464      56  Beograd     2      Opština Savski venac, Beograd na vodi, Savska   \n",
       "545      72  Beograd     2   Opština Savski venac, Beograd na vodi, Saraje...   \n",
       "623      40  Beograd     2    Opština Savski venac, Beograd na vodi, BW Bella   \n",
       "...     ...      ...   ...                                                ...   \n",
       "9809     28  Beograd     5            Opština Savski venac, Beograd na vodi,    \n",
       "11479    56  Beograd     6                      Beograd na vodi, Savski Venac   \n",
       "11480   138  Beograd     5                      Beograd na vodi, Savski Venac   \n",
       "11482    55  Beograd    15                      Beograd na vodi, Savski Venac   \n",
       "11484    40  Beograd     2                      Beograd na vodi, Savski Venac   \n",
       "\n",
       "         price  rooms      source  square_price  \\\n",
       "56     7310888    6.0  halooglasi          8263   \n",
       "342     405000    3.0  halooglasi          4402   \n",
       "464     234000    2.0  halooglasi          4179   \n",
       "545     249550    3.0  halooglasi          3500   \n",
       "623     201888    0.5  halooglasi          5047   \n",
       "...        ...    ...         ...           ...   \n",
       "9809    170000    0.5  halooglasi          6071   \n",
       "11479   253888    2.0       4zida          4534   \n",
       "11480   532888    4.0       4zida          3862   \n",
       "11482   269888    2.0       4zida          4907   \n",
       "11484   201888    0.5       4zida          5047   \n",
       "\n",
       "                                                   title       opstina  \n",
       "56                   BW Riviera, stan sa bazenom ID#9324  Savski Venac  \n",
       "342    Extra Lux opremljen stan BW ARIA  - bez provizije  Savski Venac  \n",
       "464    BW Quartet 2, useljivo u junu 2024., bez provi...  Savski Venac  \n",
       "545    Beograd BW Sarajevska Bircaninova 71 + 6m2 Sal...  Savski Venac  \n",
       "623                      BW Bella - bez provizije kupce!  Savski Venac  \n",
       "...                                                  ...           ...  \n",
       "9809   Savski Venac (Beograd), Beograd na vodi, Stan,...  Savski Venac  \n",
       "11479                                            BW Echo  Savski Venac  \n",
       "11480                                       BW Quartet 4  Savski Venac  \n",
       "11482                                            BW Eden  Savski Venac  \n",
       "11484                                           BW Bella  Savski Venac  \n",
       "\n",
       "[137 rows x 10 columns]"
      ],
      "text/html": [
       "<div>\n",
       "<style scoped>\n",
       "    .dataframe tbody tr th:only-of-type {\n",
       "        vertical-align: middle;\n",
       "    }\n",
       "\n",
       "    .dataframe tbody tr th {\n",
       "        vertical-align: top;\n",
       "    }\n",
       "\n",
       "    .dataframe thead th {\n",
       "        text-align: right;\n",
       "    }\n",
       "</style>\n",
       "<table border=\"1\" class=\"dataframe\">\n",
       "  <thead>\n",
       "    <tr style=\"text-align: right;\">\n",
       "      <th></th>\n",
       "      <th>area</th>\n",
       "      <th>city</th>\n",
       "      <th>floor</th>\n",
       "      <th>location</th>\n",
       "      <th>price</th>\n",
       "      <th>rooms</th>\n",
       "      <th>source</th>\n",
       "      <th>square_price</th>\n",
       "      <th>title</th>\n",
       "      <th>opstina</th>\n",
       "    </tr>\n",
       "  </thead>\n",
       "  <tbody>\n",
       "    <tr>\n",
       "      <th>56</th>\n",
       "      <td>885</td>\n",
       "      <td>Beograd</td>\n",
       "      <td>p</td>\n",
       "      <td>Opština Savski venac, Beograd na vodi, Herceg...</td>\n",
       "      <td>7310888</td>\n",
       "      <td>6.0</td>\n",
       "      <td>halooglasi</td>\n",
       "      <td>8263</td>\n",
       "      <td>BW Riviera, stan sa bazenom ID#9324</td>\n",
       "      <td>Savski Venac</td>\n",
       "    </tr>\n",
       "    <tr>\n",
       "      <th>342</th>\n",
       "      <td>92</td>\n",
       "      <td>Beograd</td>\n",
       "      <td>16</td>\n",
       "      <td>Opština Savski venac, Beograd na vodi</td>\n",
       "      <td>405000</td>\n",
       "      <td>3.0</td>\n",
       "      <td>halooglasi</td>\n",
       "      <td>4402</td>\n",
       "      <td>Extra Lux opremljen stan BW ARIA  - bez provizije</td>\n",
       "      <td>Savski Venac</td>\n",
       "    </tr>\n",
       "    <tr>\n",
       "      <th>464</th>\n",
       "      <td>56</td>\n",
       "      <td>Beograd</td>\n",
       "      <td>2</td>\n",
       "      <td>Opština Savski venac, Beograd na vodi, Savska</td>\n",
       "      <td>234000</td>\n",
       "      <td>2.0</td>\n",
       "      <td>halooglasi</td>\n",
       "      <td>4179</td>\n",
       "      <td>BW Quartet 2, useljivo u junu 2024., bez provi...</td>\n",
       "      <td>Savski Venac</td>\n",
       "    </tr>\n",
       "    <tr>\n",
       "      <th>545</th>\n",
       "      <td>72</td>\n",
       "      <td>Beograd</td>\n",
       "      <td>2</td>\n",
       "      <td>Opština Savski venac, Beograd na vodi, Saraje...</td>\n",
       "      <td>249550</td>\n",
       "      <td>3.0</td>\n",
       "      <td>halooglasi</td>\n",
       "      <td>3500</td>\n",
       "      <td>Beograd BW Sarajevska Bircaninova 71 + 6m2 Sal...</td>\n",
       "      <td>Savski Venac</td>\n",
       "    </tr>\n",
       "    <tr>\n",
       "      <th>623</th>\n",
       "      <td>40</td>\n",
       "      <td>Beograd</td>\n",
       "      <td>2</td>\n",
       "      <td>Opština Savski venac, Beograd na vodi, BW Bella</td>\n",
       "      <td>201888</td>\n",
       "      <td>0.5</td>\n",
       "      <td>halooglasi</td>\n",
       "      <td>5047</td>\n",
       "      <td>BW Bella - bez provizije kupce!</td>\n",
       "      <td>Savski Venac</td>\n",
       "    </tr>\n",
       "    <tr>\n",
       "      <th>...</th>\n",
       "      <td>...</td>\n",
       "      <td>...</td>\n",
       "      <td>...</td>\n",
       "      <td>...</td>\n",
       "      <td>...</td>\n",
       "      <td>...</td>\n",
       "      <td>...</td>\n",
       "      <td>...</td>\n",
       "      <td>...</td>\n",
       "      <td>...</td>\n",
       "    </tr>\n",
       "    <tr>\n",
       "      <th>9809</th>\n",
       "      <td>28</td>\n",
       "      <td>Beograd</td>\n",
       "      <td>5</td>\n",
       "      <td>Opština Savski venac, Beograd na vodi,</td>\n",
       "      <td>170000</td>\n",
       "      <td>0.5</td>\n",
       "      <td>halooglasi</td>\n",
       "      <td>6071</td>\n",
       "      <td>Savski Venac (Beograd), Beograd na vodi, Stan,...</td>\n",
       "      <td>Savski Venac</td>\n",
       "    </tr>\n",
       "    <tr>\n",
       "      <th>11479</th>\n",
       "      <td>56</td>\n",
       "      <td>Beograd</td>\n",
       "      <td>6</td>\n",
       "      <td>Beograd na vodi, Savski Venac</td>\n",
       "      <td>253888</td>\n",
       "      <td>2.0</td>\n",
       "      <td>4zida</td>\n",
       "      <td>4534</td>\n",
       "      <td>BW Echo</td>\n",
       "      <td>Savski Venac</td>\n",
       "    </tr>\n",
       "    <tr>\n",
       "      <th>11480</th>\n",
       "      <td>138</td>\n",
       "      <td>Beograd</td>\n",
       "      <td>5</td>\n",
       "      <td>Beograd na vodi, Savski Venac</td>\n",
       "      <td>532888</td>\n",
       "      <td>4.0</td>\n",
       "      <td>4zida</td>\n",
       "      <td>3862</td>\n",
       "      <td>BW Quartet 4</td>\n",
       "      <td>Savski Venac</td>\n",
       "    </tr>\n",
       "    <tr>\n",
       "      <th>11482</th>\n",
       "      <td>55</td>\n",
       "      <td>Beograd</td>\n",
       "      <td>15</td>\n",
       "      <td>Beograd na vodi, Savski Venac</td>\n",
       "      <td>269888</td>\n",
       "      <td>2.0</td>\n",
       "      <td>4zida</td>\n",
       "      <td>4907</td>\n",
       "      <td>BW Eden</td>\n",
       "      <td>Savski Venac</td>\n",
       "    </tr>\n",
       "    <tr>\n",
       "      <th>11484</th>\n",
       "      <td>40</td>\n",
       "      <td>Beograd</td>\n",
       "      <td>2</td>\n",
       "      <td>Beograd na vodi, Savski Venac</td>\n",
       "      <td>201888</td>\n",
       "      <td>0.5</td>\n",
       "      <td>4zida</td>\n",
       "      <td>5047</td>\n",
       "      <td>BW Bella</td>\n",
       "      <td>Savski Venac</td>\n",
       "    </tr>\n",
       "  </tbody>\n",
       "</table>\n",
       "<p>137 rows × 10 columns</p>\n",
       "</div>"
      ]
     },
     "execution_count": 115,
     "metadata": {},
     "output_type": "execute_result"
    }
   ],
   "execution_count": 115
  },
  {
   "metadata": {},
   "cell_type": "markdown",
   "source": "Ignore outlier from before",
   "id": "6a309d17ca1568e8"
  },
  {
   "metadata": {
    "ExecuteTime": {
     "end_time": "2025-10-17T17:37:39.964552Z",
     "start_time": "2025-10-17T17:37:39.942358Z"
    }
   },
   "cell_type": "code",
   "source": [
    "bw.drop(bw[bw['area'] > 800].index, inplace=True)\n",
    "bw.describe()"
   ],
   "id": "97c837cab551c9c4",
   "outputs": [
    {
     "data": {
      "text/plain": [
       "             area         price       rooms  square_price\n",
       "count  136.000000  1.360000e+02  136.000000    136.000000\n",
       "mean    88.213235  4.274204e+05    2.827206   4834.639706\n",
       "std     39.270837  2.386366e+05    1.031681   1045.463347\n",
       "min     28.000000  1.700000e+05    0.500000   2618.000000\n",
       "25%     55.000000  2.538880e+05    2.000000   4089.250000\n",
       "50%     83.000000  3.724440e+05    3.000000   4534.000000\n",
       "75%    112.000000  4.875000e+05    3.000000   5429.000000\n",
       "max    219.000000  1.617000e+06    6.000000   8347.000000"
      ],
      "text/html": [
       "<div>\n",
       "<style scoped>\n",
       "    .dataframe tbody tr th:only-of-type {\n",
       "        vertical-align: middle;\n",
       "    }\n",
       "\n",
       "    .dataframe tbody tr th {\n",
       "        vertical-align: top;\n",
       "    }\n",
       "\n",
       "    .dataframe thead th {\n",
       "        text-align: right;\n",
       "    }\n",
       "</style>\n",
       "<table border=\"1\" class=\"dataframe\">\n",
       "  <thead>\n",
       "    <tr style=\"text-align: right;\">\n",
       "      <th></th>\n",
       "      <th>area</th>\n",
       "      <th>price</th>\n",
       "      <th>rooms</th>\n",
       "      <th>square_price</th>\n",
       "    </tr>\n",
       "  </thead>\n",
       "  <tbody>\n",
       "    <tr>\n",
       "      <th>count</th>\n",
       "      <td>136.000000</td>\n",
       "      <td>1.360000e+02</td>\n",
       "      <td>136.000000</td>\n",
       "      <td>136.000000</td>\n",
       "    </tr>\n",
       "    <tr>\n",
       "      <th>mean</th>\n",
       "      <td>88.213235</td>\n",
       "      <td>4.274204e+05</td>\n",
       "      <td>2.827206</td>\n",
       "      <td>4834.639706</td>\n",
       "    </tr>\n",
       "    <tr>\n",
       "      <th>std</th>\n",
       "      <td>39.270837</td>\n",
       "      <td>2.386366e+05</td>\n",
       "      <td>1.031681</td>\n",
       "      <td>1045.463347</td>\n",
       "    </tr>\n",
       "    <tr>\n",
       "      <th>min</th>\n",
       "      <td>28.000000</td>\n",
       "      <td>1.700000e+05</td>\n",
       "      <td>0.500000</td>\n",
       "      <td>2618.000000</td>\n",
       "    </tr>\n",
       "    <tr>\n",
       "      <th>25%</th>\n",
       "      <td>55.000000</td>\n",
       "      <td>2.538880e+05</td>\n",
       "      <td>2.000000</td>\n",
       "      <td>4089.250000</td>\n",
       "    </tr>\n",
       "    <tr>\n",
       "      <th>50%</th>\n",
       "      <td>83.000000</td>\n",
       "      <td>3.724440e+05</td>\n",
       "      <td>3.000000</td>\n",
       "      <td>4534.000000</td>\n",
       "    </tr>\n",
       "    <tr>\n",
       "      <th>75%</th>\n",
       "      <td>112.000000</td>\n",
       "      <td>4.875000e+05</td>\n",
       "      <td>3.000000</td>\n",
       "      <td>5429.000000</td>\n",
       "    </tr>\n",
       "    <tr>\n",
       "      <th>max</th>\n",
       "      <td>219.000000</td>\n",
       "      <td>1.617000e+06</td>\n",
       "      <td>6.000000</td>\n",
       "      <td>8347.000000</td>\n",
       "    </tr>\n",
       "  </tbody>\n",
       "</table>\n",
       "</div>"
      ]
     },
     "execution_count": 116,
     "metadata": {},
     "output_type": "execute_result"
    }
   ],
   "execution_count": 116
  },
  {
   "metadata": {},
   "cell_type": "markdown",
   "source": [
    "Here is conclusion after looking at statistics:\n",
    "* minimum area 28 m2, maximum area 219 m2, average area: 88 m2, median area: 83 m2\n",
    "* minimum price: ~170.000e, maximum price: ~1.617.000e, average price: ~427.000e, median price: ~372.000e\n",
    "* minimum square price: ~2600e, maximum square price: ~8300e, average square price: ~4800e, median square price: ~4500e"
   ],
   "id": "11f759ec3180685e"
  },
  {
   "metadata": {
    "ExecuteTime": {
     "end_time": "2025-10-17T17:42:27.389204Z",
     "start_time": "2025-10-17T17:42:27.210364Z"
    }
   },
   "cell_type": "code",
   "source": [
    "fig, ax = plt.subplots()\n",
    "ax.hist(bw['square_price'], bins=20, color='yellow')\n",
    "ax.set_xlabel('€/m²')\n",
    "ax.set_title('Histogram for Belgrade Waterfront square price')\n",
    "plt.show()"
   ],
   "id": "bcd9239de20c9419",
   "outputs": [
    {
     "data": {
      "text/plain": [
       "<Figure size 640x480 with 1 Axes>"
      ],
      "image/png": "[encoded data removed]"
     },
     "metadata": {},
     "output_type": "display_data"
    }
   ],
   "execution_count": 122
  },
  {
   "metadata": {
    "ExecuteTime": {
     "end_time": "2025-10-17T17:42:34.453181Z",
     "start_time": "2025-10-17T17:42:34.287364Z"
    }
   },
   "cell_type": "code",
   "source": [
    "from matplotlib.ticker import FuncFormatter\n",
    "\n",
    "fig, ax = plt.subplots()\n",
    "ax.hist(bw['price'], bins=20, color='mediumpurple')\n",
    "ax.xaxis.set_major_formatter(FuncFormatter(lambda x, _: int(x / 1000)))\n",
    "ax.set_xlabel(\"Price in thousands €/m²\")\n",
    "ax.set_title('Histogram for Belgrade Waterfront prices')\n",
    "plt.show()"
   ],
   "id": "2fb117b022a1fe27",
   "outputs": [
    {
     "data": {
      "text/plain": [
       "<Figure size 640x480 with 1 Axes>"
      ],
      "image/png": "[encoded data removed]"
     },
     "metadata": {},
     "output_type": "display_data"
    }
   ],
   "execution_count": 123
  }
 ],
 "metadata": {
  "kernelspec": {
   "display_name": "Python 3",
   "language": "python",
   "name": "python3"
  },
  "language_info": {
   "codemirror_mode": {
    "name": "ipython",
    "version": 2
   },
   "file_extension": ".py",
   "mimetype": "text/x-python",
   "name": "python",
   "nbconvert_exporter": "python",
   "pygments_lexer": "ipython2",
   "version": "2.7.6"
  }
 },
 "nbformat": 4,
 "nbformat_minor": 5
}
